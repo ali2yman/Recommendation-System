{
  "cells": [
    {
      "cell_type": "markdown",
      "metadata": {
        "id": "GhJ1dsn0NvoG"
      },
      "source": [
        "$$ ITI \\space AI-Pro: \\space Intake \\space 45 $$\n",
        "$$ Recommender \\space Systems $$\n",
        "$$ Lab \\space no. \\space 1 $$"
      ]
    },
    {
      "cell_type": "markdown",
      "metadata": {
        "id": "BxGAigXnNvoK"
      },
      "source": [
        "# `01` Import Necessary Libraries"
      ]
    },
    {
      "cell_type": "markdown",
      "metadata": {
        "id": "CtibP7PENvoL"
      },
      "source": [
        "## `i` Default Libraries"
      ]
    },
    {
      "cell_type": "code",
      "execution_count": 1,
      "metadata": {
        "id": "umXdcMuaNvoL"
      },
      "outputs": [],
      "source": [
        "import numpy as np\n",
        "import pandas as pd"
      ]
    },
    {
      "cell_type": "markdown",
      "metadata": {
        "id": "S0-_RSrNNvoN"
      },
      "source": [
        "## `ii` Additional Libraries\n",
        "Add imports for additional libraries you used throughout the notebook"
      ]
    },
    {
      "cell_type": "code",
      "execution_count": null,
      "metadata": {
        "id": "bPwHgX69NvoN"
      },
      "outputs": [],
      "source": []
    },
    {
      "cell_type": "markdown",
      "metadata": {
        "id": "gSlTr5X3NvoN"
      },
      "source": [
        "----------------------------\n",
        "\n",
        "# `02` Load Data"
      ]
    },
    {
      "cell_type": "code",
      "execution_count": 2,
      "metadata": {
        "id": "XIDOGHH7NvoO",
        "outputId": "0278f754-026c-42ab-9b8b-c2645130ab3d"
      },
      "outputs": [
        {
          "data": {
            "application/vnd.microsoft.datawrangler.viewer.v0+json": {
              "columns": [
                {
                  "name": "index",
                  "rawType": "int64",
                  "type": "integer"
                },
                {
                  "name": "userID",
                  "rawType": "int64",
                  "type": "integer"
                },
                {
                  "name": "songID",
                  "rawType": "int64",
                  "type": "integer"
                },
                {
                  "name": "rating",
                  "rawType": "int64",
                  "type": "integer"
                }
              ],
              "conversionMethod": "pd.DataFrame",
              "ref": "2e337511-2283-4103-9ab0-e75daa105dcb",
              "rows": [
                [
                  "0",
                  "0",
                  "90409",
                  "5"
                ],
                [
                  "1",
                  "4",
                  "91266",
                  "1"
                ],
                [
                  "2",
                  "5",
                  "8063",
                  "2"
                ],
                [
                  "3",
                  "5",
                  "24427",
                  "4"
                ],
                [
                  "4",
                  "5",
                  "105433",
                  "4"
                ]
              ],
              "shape": {
                "columns": 3,
                "rows": 5
              }
            },
            "text/html": [
              "<div>\n",
              "<style scoped>\n",
              "    .dataframe tbody tr th:only-of-type {\n",
              "        vertical-align: middle;\n",
              "    }\n",
              "\n",
              "    .dataframe tbody tr th {\n",
              "        vertical-align: top;\n",
              "    }\n",
              "\n",
              "    .dataframe thead th {\n",
              "        text-align: right;\n",
              "    }\n",
              "</style>\n",
              "<table border=\"1\" class=\"dataframe\">\n",
              "  <thead>\n",
              "    <tr style=\"text-align: right;\">\n",
              "      <th></th>\n",
              "      <th>userID</th>\n",
              "      <th>songID</th>\n",
              "      <th>rating</th>\n",
              "    </tr>\n",
              "  </thead>\n",
              "  <tbody>\n",
              "    <tr>\n",
              "      <th>0</th>\n",
              "      <td>0</td>\n",
              "      <td>90409</td>\n",
              "      <td>5</td>\n",
              "    </tr>\n",
              "    <tr>\n",
              "      <th>1</th>\n",
              "      <td>4</td>\n",
              "      <td>91266</td>\n",
              "      <td>1</td>\n",
              "    </tr>\n",
              "    <tr>\n",
              "      <th>2</th>\n",
              "      <td>5</td>\n",
              "      <td>8063</td>\n",
              "      <td>2</td>\n",
              "    </tr>\n",
              "    <tr>\n",
              "      <th>3</th>\n",
              "      <td>5</td>\n",
              "      <td>24427</td>\n",
              "      <td>4</td>\n",
              "    </tr>\n",
              "    <tr>\n",
              "      <th>4</th>\n",
              "      <td>5</td>\n",
              "      <td>105433</td>\n",
              "      <td>4</td>\n",
              "    </tr>\n",
              "  </tbody>\n",
              "</table>\n",
              "</div>"
            ],
            "text/plain": [
              "   userID  songID  rating\n",
              "0       0   90409       5\n",
              "1       4   91266       1\n",
              "2       5    8063       2\n",
              "3       5   24427       4\n",
              "4       5  105433       4"
            ]
          },
          "execution_count": 2,
          "metadata": {},
          "output_type": "execute_result"
        }
      ],
      "source": [
        "ratings = pd.read_csv(\"Data/songsDataset.csv\", names=['userID', 'songID', 'rating'], skiprows=[0])\n",
        "ratings.head()"
      ]
    },
    {
      "cell_type": "markdown",
      "metadata": {
        "id": "fLDaOO4zNvoP"
      },
      "source": [
        "---------------------------------\n",
        "\n",
        "# `03` Similarity Metrics"
      ]
    },
    {
      "cell_type": "markdown",
      "metadata": {
        "id": "haFmEhMmNvoP"
      },
      "source": [
        "## `0` Utility Matrix\n",
        "Construct utility matrix for the loaded data `ratings`\n",
        "- Users as Index\n",
        "- Songs as Columns\n",
        "\n",
        "**Hint**: you can use `pandas.DataFrame.pivot` method (see [Documentation](https://pandas.pydata.org/docs/reference/api/pandas.DataFrame.pivot.html))"
      ]
    },
    {
      "cell_type": "code",
      "execution_count": 3,
      "metadata": {
        "id": "g-5SjqBjNvoQ"
      },
      "outputs": [
        {
          "data": {
            "application/vnd.microsoft.datawrangler.viewer.v0+json": {
              "columns": [
                {
                  "name": "userID",
                  "rawType": "int64",
                  "type": "integer"
                },
                {
                  "name": "2263",
                  "rawType": "float64",
                  "type": "float"
                },
                {
                  "name": "2726",
                  "rawType": "float64",
                  "type": "float"
                },
                {
                  "name": "3785",
                  "rawType": "float64",
                  "type": "float"
                },
                {
                  "name": "8063",
                  "rawType": "float64",
                  "type": "float"
                },
                {
                  "name": "12709",
                  "rawType": "float64",
                  "type": "float"
                },
                {
                  "name": "13859",
                  "rawType": "float64",
                  "type": "float"
                },
                {
                  "name": "16548",
                  "rawType": "float64",
                  "type": "float"
                },
                {
                  "name": "17029",
                  "rawType": "float64",
                  "type": "float"
                },
                {
                  "name": "19299",
                  "rawType": "float64",
                  "type": "float"
                },
                {
                  "name": "19670",
                  "rawType": "float64",
                  "type": "float"
                },
                {
                  "name": "22763",
                  "rawType": "float64",
                  "type": "float"
                },
                {
                  "name": "24427",
                  "rawType": "float64",
                  "type": "float"
                },
                {
                  "name": "25182",
                  "rawType": "float64",
                  "type": "float"
                },
                {
                  "name": "28985",
                  "rawType": "float64",
                  "type": "float"
                },
                {
                  "name": "36561",
                  "rawType": "float64",
                  "type": "float"
                },
                {
                  "name": "40712",
                  "rawType": "float64",
                  "type": "float"
                },
                {
                  "name": "42781",
                  "rawType": "float64",
                  "type": "float"
                },
                {
                  "name": "42906",
                  "rawType": "float64",
                  "type": "float"
                },
                {
                  "name": "43267",
                  "rawType": "float64",
                  "type": "float"
                },
                {
                  "name": "43827",
                  "rawType": "float64",
                  "type": "float"
                },
                {
                  "name": "45026",
                  "rawType": "float64",
                  "type": "float"
                },
                {
                  "name": "45934",
                  "rawType": "float64",
                  "type": "float"
                },
                {
                  "name": "48731",
                  "rawType": "float64",
                  "type": "float"
                },
                {
                  "name": "52611",
                  "rawType": "float64",
                  "type": "float"
                },
                {
                  "name": "54042",
                  "rawType": "float64",
                  "type": "float"
                },
                {
                  "name": "55240",
                  "rawType": "float64",
                  "type": "float"
                },
                {
                  "name": "55622",
                  "rawType": "float64",
                  "type": "float"
                },
                {
                  "name": "56660",
                  "rawType": "float64",
                  "type": "float"
                },
                {
                  "name": "60465",
                  "rawType": "float64",
                  "type": "float"
                },
                {
                  "name": "60888",
                  "rawType": "float64",
                  "type": "float"
                },
                {
                  "name": "62954",
                  "rawType": "float64",
                  "type": "float"
                },
                {
                  "name": "68572",
                  "rawType": "float64",
                  "type": "float"
                },
                {
                  "name": "71582",
                  "rawType": "float64",
                  "type": "float"
                },
                {
                  "name": "72017",
                  "rawType": "float64",
                  "type": "float"
                },
                {
                  "name": "72309",
                  "rawType": "float64",
                  "type": "float"
                },
                {
                  "name": "74640",
                  "rawType": "float64",
                  "type": "float"
                },
                {
                  "name": "79622",
                  "rawType": "float64",
                  "type": "float"
                },
                {
                  "name": "86341",
                  "rawType": "float64",
                  "type": "float"
                },
                {
                  "name": "90409",
                  "rawType": "float64",
                  "type": "float"
                },
                {
                  "name": "91266",
                  "rawType": "float64",
                  "type": "float"
                },
                {
                  "name": "92881",
                  "rawType": "float64",
                  "type": "float"
                },
                {
                  "name": "94535",
                  "rawType": "float64",
                  "type": "float"
                },
                {
                  "name": "94604",
                  "rawType": "float64",
                  "type": "float"
                },
                {
                  "name": "105421",
                  "rawType": "float64",
                  "type": "float"
                },
                {
                  "name": "105433",
                  "rawType": "float64",
                  "type": "float"
                },
                {
                  "name": "112023",
                  "rawType": "float64",
                  "type": "float"
                },
                {
                  "name": "113954",
                  "rawType": "float64",
                  "type": "float"
                },
                {
                  "name": "119103",
                  "rawType": "float64",
                  "type": "float"
                },
                {
                  "name": "120147",
                  "rawType": "float64",
                  "type": "float"
                },
                {
                  "name": "122065",
                  "rawType": "float64",
                  "type": "float"
                },
                {
                  "name": "123176",
                  "rawType": "float64",
                  "type": "float"
                },
                {
                  "name": "125557",
                  "rawType": "float64",
                  "type": "float"
                },
                {
                  "name": "126757",
                  "rawType": "float64",
                  "type": "float"
                },
                {
                  "name": "131048",
                  "rawType": "float64",
                  "type": "float"
                },
                {
                  "name": "132189",
                  "rawType": "float64",
                  "type": "float"
                },
                {
                  "name": "134732",
                  "rawType": "float64",
                  "type": "float"
                }
              ],
              "conversionMethod": "pd.DataFrame",
              "ref": "f5e25913-ed73-49f1-8197-5daf6c369e5c",
              "rows": [
                [
                  "0",
                  null,
                  null,
                  null,
                  null,
                  null,
                  null,
                  null,
                  null,
                  null,
                  null,
                  null,
                  null,
                  null,
                  null,
                  null,
                  null,
                  null,
                  null,
                  null,
                  null,
                  null,
                  null,
                  null,
                  null,
                  null,
                  null,
                  null,
                  null,
                  null,
                  null,
                  null,
                  null,
                  null,
                  null,
                  null,
                  null,
                  null,
                  null,
                  "5.0",
                  null,
                  null,
                  null,
                  null,
                  null,
                  null,
                  null,
                  null,
                  null,
                  null,
                  null,
                  null,
                  null,
                  null,
                  null,
                  null,
                  null
                ],
                [
                  "4",
                  null,
                  null,
                  null,
                  null,
                  null,
                  null,
                  null,
                  null,
                  null,
                  null,
                  null,
                  null,
                  null,
                  null,
                  null,
                  null,
                  null,
                  null,
                  null,
                  null,
                  null,
                  null,
                  null,
                  null,
                  null,
                  null,
                  null,
                  null,
                  null,
                  null,
                  null,
                  null,
                  null,
                  null,
                  null,
                  null,
                  null,
                  null,
                  null,
                  "1.0",
                  null,
                  null,
                  null,
                  null,
                  null,
                  null,
                  null,
                  null,
                  null,
                  null,
                  null,
                  null,
                  null,
                  null,
                  null,
                  null
                ],
                [
                  "5",
                  null,
                  null,
                  null,
                  "2.0",
                  null,
                  null,
                  null,
                  null,
                  null,
                  null,
                  null,
                  "4.0",
                  null,
                  null,
                  null,
                  null,
                  null,
                  null,
                  null,
                  null,
                  null,
                  null,
                  null,
                  null,
                  null,
                  null,
                  null,
                  null,
                  null,
                  null,
                  null,
                  null,
                  null,
                  null,
                  null,
                  null,
                  null,
                  null,
                  null,
                  null,
                  null,
                  null,
                  null,
                  null,
                  "4.0",
                  null,
                  null,
                  null,
                  null,
                  null,
                  null,
                  null,
                  null,
                  null,
                  null,
                  null
                ],
                [
                  "7",
                  null,
                  null,
                  null,
                  null,
                  null,
                  null,
                  null,
                  null,
                  null,
                  null,
                  null,
                  null,
                  null,
                  null,
                  null,
                  null,
                  null,
                  null,
                  null,
                  null,
                  null,
                  null,
                  null,
                  null,
                  null,
                  null,
                  null,
                  null,
                  null,
                  null,
                  null,
                  null,
                  null,
                  null,
                  null,
                  null,
                  null,
                  null,
                  null,
                  null,
                  null,
                  null,
                  null,
                  null,
                  null,
                  null,
                  null,
                  null,
                  null,
                  null,
                  null,
                  null,
                  null,
                  null,
                  null,
                  "3.0"
                ],
                [
                  "14",
                  null,
                  null,
                  null,
                  null,
                  null,
                  null,
                  null,
                  null,
                  null,
                  null,
                  null,
                  null,
                  null,
                  null,
                  null,
                  null,
                  null,
                  null,
                  null,
                  null,
                  null,
                  null,
                  null,
                  null,
                  null,
                  null,
                  null,
                  null,
                  null,
                  null,
                  null,
                  null,
                  null,
                  null,
                  null,
                  null,
                  null,
                  null,
                  null,
                  null,
                  null,
                  null,
                  null,
                  "3.0",
                  null,
                  null,
                  null,
                  null,
                  null,
                  null,
                  null,
                  null,
                  null,
                  null,
                  null,
                  null
                ]
              ],
              "shape": {
                "columns": 56,
                "rows": 5
              }
            },
            "text/html": [
              "<div>\n",
              "<style scoped>\n",
              "    .dataframe tbody tr th:only-of-type {\n",
              "        vertical-align: middle;\n",
              "    }\n",
              "\n",
              "    .dataframe tbody tr th {\n",
              "        vertical-align: top;\n",
              "    }\n",
              "\n",
              "    .dataframe thead th {\n",
              "        text-align: right;\n",
              "    }\n",
              "</style>\n",
              "<table border=\"1\" class=\"dataframe\">\n",
              "  <thead>\n",
              "    <tr style=\"text-align: right;\">\n",
              "      <th>songID</th>\n",
              "      <th>2263</th>\n",
              "      <th>2726</th>\n",
              "      <th>3785</th>\n",
              "      <th>8063</th>\n",
              "      <th>12709</th>\n",
              "      <th>13859</th>\n",
              "      <th>16548</th>\n",
              "      <th>17029</th>\n",
              "      <th>19299</th>\n",
              "      <th>19670</th>\n",
              "      <th>...</th>\n",
              "      <th>113954</th>\n",
              "      <th>119103</th>\n",
              "      <th>120147</th>\n",
              "      <th>122065</th>\n",
              "      <th>123176</th>\n",
              "      <th>125557</th>\n",
              "      <th>126757</th>\n",
              "      <th>131048</th>\n",
              "      <th>132189</th>\n",
              "      <th>134732</th>\n",
              "    </tr>\n",
              "    <tr>\n",
              "      <th>userID</th>\n",
              "      <th></th>\n",
              "      <th></th>\n",
              "      <th></th>\n",
              "      <th></th>\n",
              "      <th></th>\n",
              "      <th></th>\n",
              "      <th></th>\n",
              "      <th></th>\n",
              "      <th></th>\n",
              "      <th></th>\n",
              "      <th></th>\n",
              "      <th></th>\n",
              "      <th></th>\n",
              "      <th></th>\n",
              "      <th></th>\n",
              "      <th></th>\n",
              "      <th></th>\n",
              "      <th></th>\n",
              "      <th></th>\n",
              "      <th></th>\n",
              "      <th></th>\n",
              "    </tr>\n",
              "  </thead>\n",
              "  <tbody>\n",
              "    <tr>\n",
              "      <th>0</th>\n",
              "      <td>NaN</td>\n",
              "      <td>NaN</td>\n",
              "      <td>NaN</td>\n",
              "      <td>NaN</td>\n",
              "      <td>NaN</td>\n",
              "      <td>NaN</td>\n",
              "      <td>NaN</td>\n",
              "      <td>NaN</td>\n",
              "      <td>NaN</td>\n",
              "      <td>NaN</td>\n",
              "      <td>...</td>\n",
              "      <td>NaN</td>\n",
              "      <td>NaN</td>\n",
              "      <td>NaN</td>\n",
              "      <td>NaN</td>\n",
              "      <td>NaN</td>\n",
              "      <td>NaN</td>\n",
              "      <td>NaN</td>\n",
              "      <td>NaN</td>\n",
              "      <td>NaN</td>\n",
              "      <td>NaN</td>\n",
              "    </tr>\n",
              "    <tr>\n",
              "      <th>4</th>\n",
              "      <td>NaN</td>\n",
              "      <td>NaN</td>\n",
              "      <td>NaN</td>\n",
              "      <td>NaN</td>\n",
              "      <td>NaN</td>\n",
              "      <td>NaN</td>\n",
              "      <td>NaN</td>\n",
              "      <td>NaN</td>\n",
              "      <td>NaN</td>\n",
              "      <td>NaN</td>\n",
              "      <td>...</td>\n",
              "      <td>NaN</td>\n",
              "      <td>NaN</td>\n",
              "      <td>NaN</td>\n",
              "      <td>NaN</td>\n",
              "      <td>NaN</td>\n",
              "      <td>NaN</td>\n",
              "      <td>NaN</td>\n",
              "      <td>NaN</td>\n",
              "      <td>NaN</td>\n",
              "      <td>NaN</td>\n",
              "    </tr>\n",
              "    <tr>\n",
              "      <th>5</th>\n",
              "      <td>NaN</td>\n",
              "      <td>NaN</td>\n",
              "      <td>NaN</td>\n",
              "      <td>2.0</td>\n",
              "      <td>NaN</td>\n",
              "      <td>NaN</td>\n",
              "      <td>NaN</td>\n",
              "      <td>NaN</td>\n",
              "      <td>NaN</td>\n",
              "      <td>NaN</td>\n",
              "      <td>...</td>\n",
              "      <td>NaN</td>\n",
              "      <td>NaN</td>\n",
              "      <td>NaN</td>\n",
              "      <td>NaN</td>\n",
              "      <td>NaN</td>\n",
              "      <td>NaN</td>\n",
              "      <td>NaN</td>\n",
              "      <td>NaN</td>\n",
              "      <td>NaN</td>\n",
              "      <td>NaN</td>\n",
              "    </tr>\n",
              "    <tr>\n",
              "      <th>7</th>\n",
              "      <td>NaN</td>\n",
              "      <td>NaN</td>\n",
              "      <td>NaN</td>\n",
              "      <td>NaN</td>\n",
              "      <td>NaN</td>\n",
              "      <td>NaN</td>\n",
              "      <td>NaN</td>\n",
              "      <td>NaN</td>\n",
              "      <td>NaN</td>\n",
              "      <td>NaN</td>\n",
              "      <td>...</td>\n",
              "      <td>NaN</td>\n",
              "      <td>NaN</td>\n",
              "      <td>NaN</td>\n",
              "      <td>NaN</td>\n",
              "      <td>NaN</td>\n",
              "      <td>NaN</td>\n",
              "      <td>NaN</td>\n",
              "      <td>NaN</td>\n",
              "      <td>NaN</td>\n",
              "      <td>3.0</td>\n",
              "    </tr>\n",
              "    <tr>\n",
              "      <th>14</th>\n",
              "      <td>NaN</td>\n",
              "      <td>NaN</td>\n",
              "      <td>NaN</td>\n",
              "      <td>NaN</td>\n",
              "      <td>NaN</td>\n",
              "      <td>NaN</td>\n",
              "      <td>NaN</td>\n",
              "      <td>NaN</td>\n",
              "      <td>NaN</td>\n",
              "      <td>NaN</td>\n",
              "      <td>...</td>\n",
              "      <td>NaN</td>\n",
              "      <td>NaN</td>\n",
              "      <td>NaN</td>\n",
              "      <td>NaN</td>\n",
              "      <td>NaN</td>\n",
              "      <td>NaN</td>\n",
              "      <td>NaN</td>\n",
              "      <td>NaN</td>\n",
              "      <td>NaN</td>\n",
              "      <td>NaN</td>\n",
              "    </tr>\n",
              "  </tbody>\n",
              "</table>\n",
              "<p>5 rows × 56 columns</p>\n",
              "</div>"
            ],
            "text/plain": [
              "songID  2263    2726    3785    8063    12709   13859   16548   17029   \\\n",
              "userID                                                                   \n",
              "0          NaN     NaN     NaN     NaN     NaN     NaN     NaN     NaN   \n",
              "4          NaN     NaN     NaN     NaN     NaN     NaN     NaN     NaN   \n",
              "5          NaN     NaN     NaN     2.0     NaN     NaN     NaN     NaN   \n",
              "7          NaN     NaN     NaN     NaN     NaN     NaN     NaN     NaN   \n",
              "14         NaN     NaN     NaN     NaN     NaN     NaN     NaN     NaN   \n",
              "\n",
              "songID  19299   19670   ...  113954  119103  120147  122065  123176  125557  \\\n",
              "userID                  ...                                                   \n",
              "0          NaN     NaN  ...     NaN     NaN     NaN     NaN     NaN     NaN   \n",
              "4          NaN     NaN  ...     NaN     NaN     NaN     NaN     NaN     NaN   \n",
              "5          NaN     NaN  ...     NaN     NaN     NaN     NaN     NaN     NaN   \n",
              "7          NaN     NaN  ...     NaN     NaN     NaN     NaN     NaN     NaN   \n",
              "14         NaN     NaN  ...     NaN     NaN     NaN     NaN     NaN     NaN   \n",
              "\n",
              "songID  126757  131048  132189  134732  \n",
              "userID                                  \n",
              "0          NaN     NaN     NaN     NaN  \n",
              "4          NaN     NaN     NaN     NaN  \n",
              "5          NaN     NaN     NaN     NaN  \n",
              "7          NaN     NaN     NaN     3.0  \n",
              "14         NaN     NaN     NaN     NaN  \n",
              "\n",
              "[5 rows x 56 columns]"
            ]
          },
          "execution_count": 3,
          "metadata": {},
          "output_type": "execute_result"
        }
      ],
      "source": [
        "utility_matrix = pd.pivot_table(ratings, index='userID', columns='songID', values='rating')\n",
        "utility_matrix.head()"
      ]
    },
    {
      "cell_type": "markdown",
      "metadata": {
        "id": "7YhtY0W_NvoQ"
      },
      "source": [
        "## `i` Cosine Similarity\n",
        "Finish implmenting the function below to calculate `Cosine Similarity` between two vectors"
      ]
    },
    {
      "cell_type": "code",
      "execution_count": 4,
      "metadata": {
        "id": "PnBgczXQNvoR"
      },
      "outputs": [],
      "source": [
        "def cosine_sim(vec_a, vec_b):\n",
        "    \"\"\"\n",
        "    Returns the raw cosine similarity score between two vectors.\n",
        "\n",
        "            Parameters:\n",
        "                vec_a (pandas.Series): Vector A\n",
        "                vec_b (pandas.Series): Vector B\n",
        "\n",
        "            Returns:\n",
        "                sim_score (float): Similarity score between vectors vec_a and vec_b\n",
        "    \"\"\"\n",
        "    vec_a = vec_a.fillna(0)\n",
        "    vec_b = vec_b.fillna(0)\n",
        "\n",
        "    n1 = len(vec_a)\n",
        "\n",
        "    if n1 != len(vec_b):\n",
        "        raise ValueError(\"Vectors must be of the same length.\")\n",
        "\n",
        "    dot_product = 0\n",
        "    m1 = 0\n",
        "    m2 = 0\n",
        "\n",
        "    for i in range(n1):\n",
        "        dot_product += vec_a.values[i] * vec_b.values[i]\n",
        "        m1 += vec_a.values[i] ** 2\n",
        "        m2 += vec_b.values[i] ** 2\n",
        "\n",
        "    if m1 == 0 or m2 == 0:\n",
        "        return 0.0\n",
        "\n",
        "    sim_score = dot_product / (m1 ** 0.5 * m2 ** 0.5)\n",
        "\n",
        "    return sim_score\n"
      ]
    },
    {
      "cell_type": "code",
      "execution_count": 5,
      "metadata": {
        "id": "yhB1T-YxNvoS",
        "outputId": "22708a0a-0cde-4a81-aafb-06d6b38673b7"
      },
      "outputs": [
        {
          "name": "stdout",
          "output_type": "stream",
          "text": [
            "Cosine Similarity between userID 56 and userID 227 is: 0.7808688094430304\n"
          ]
        }
      ],
      "source": [
        "print(f'Cosine Similarity between userID 56 and userID 227 is: {cosine_sim(utility_matrix.iloc[56].copy(), utility_matrix.iloc[227].copy())}')"
      ]
    },
    {
      "cell_type": "markdown",
      "metadata": {
        "id": "xbYcMwsVNvoS"
      },
      "source": [
        "## `ii` Adjusted Cosine Similarity\n",
        "Finish implmenting the function below to calculate `Adjusted Cosine Similarity` between two vectors"
      ]
    },
    {
      "cell_type": "code",
      "execution_count": 6,
      "metadata": {
        "id": "oEDFgMlrNvoV"
      },
      "outputs": [],
      "source": [
        "import numpy as np\n",
        "\n",
        "def adjusted_cosine_sim(vec_a, vec_b):\n",
        "    if len(vec_a) != len(vec_b):\n",
        "        raise ValueError(\"vectors must be of the same length.\")\n",
        "\n",
        "    mean_a = vec_a.fillna(0).mean()\n",
        "    mean_b = vec_b.fillna(0).mean()\n",
        "\n",
        "    adjusted_a = vec_a.fillna(0) - mean_a\n",
        "    adjusted_b = vec_b.fillna(0) - mean_b\n",
        "\n",
        "    dot_product = np.dot(adjusted_a, adjusted_b)\n",
        "    m1 = np.sqrt(np.sum(adjusted_a ** 2))\n",
        "    m2 = np.sqrt(np.sum(adjusted_b ** 2))\n",
        "\n",
        "    if m1 == 0 or m2 == 0:\n",
        "        return 0.0\n",
        "\n",
        "    sim_score = dot_product / (m1 * m2)\n",
        "\n",
        "    return sim_score\n"
      ]
    },
    {
      "cell_type": "code",
      "execution_count": 7,
      "metadata": {
        "id": "TUYN7AXINvoV",
        "outputId": "72a7ffaa-6005-4ea1-9b84-2d07f498f3d9"
      },
      "outputs": [
        {
          "name": "stdout",
          "output_type": "stream",
          "text": [
            "Adjusted Cosine Similarity between userID 56 and userID 227 is: 0.7764278070396684\n"
          ]
        }
      ],
      "source": [
        "print(f'Adjusted Cosine Similarity between userID 56 and userID 227 is: {adjusted_cosine_sim(utility_matrix.iloc[56].copy(), utility_matrix.iloc[227].copy())}')"
      ]
    },
    {
      "cell_type": "markdown",
      "metadata": {
        "id": "YAULHdMANvoW"
      },
      "source": [
        "## `iii` Pearson Correlation Coefficient\n",
        "Finish implmenting the function below to calculate `Pearson Correlation Coefficient` between two vectors"
      ]
    },
    {
      "cell_type": "code",
      "execution_count": 8,
      "metadata": {
        "id": "cUvuJNrXNvoX"
      },
      "outputs": [],
      "source": [
        "import numpy as np\n",
        "\n",
        "def pearson_sim(vec_a, vec_b):\n",
        "    if len(vec_a) != len(vec_b):\n",
        "        raise ValueError(\"vectors must be of the same length.\")\n",
        "\n",
        "    vec_a = vec_a.fillna(0)\n",
        "    vec_b = vec_b.fillna(0)\n",
        "\n",
        "    mean_a = vec_a.mean()\n",
        "    mean_b = vec_b.mean()\n",
        "\n",
        "    covariance = np.sum((vec_a - mean_a) * (vec_b - mean_b))\n",
        "\n",
        "    std_a = np.sqrt(np.sum((vec_a - mean_a) ** 2))\n",
        "    std_b = np.sqrt(np.sum((vec_b - mean_b) ** 2))\n",
        "\n",
        "    if std_a == 0 or std_b == 0:\n",
        "        return 0.0\n",
        "\n",
        "    sim_score = covariance / (std_a * std_b)\n",
        "\n",
        "    return sim_score"
      ]
    },
    {
      "cell_type": "code",
      "execution_count": 9,
      "metadata": {
        "id": "aylOUfutNvoX",
        "outputId": "7aa87572-e3b0-45d3-bb5e-60afa21da169"
      },
      "outputs": [
        {
          "name": "stdout",
          "output_type": "stream",
          "text": [
            "Pearson Similarity between songID 3785 and songID 17029 is: -0.015085785303531213\n"
          ]
        }
      ],
      "source": [
        "print(f'Pearson Similarity between songID 3785 and songID 17029 is: {pearson_sim(utility_matrix[3785].copy(), utility_matrix[17029].copy())}')"
      ]
    },
    {
      "cell_type": "markdown",
      "metadata": {
        "id": "wJ-dWAueNvoY"
      },
      "source": [
        "## `iv` Mean Squared Difference\n",
        "Finish implmenting the function below to calculate `Mean Squared Difference` between two vectors\n",
        "\n",
        "**Note**: Make sure you calculate the difference for common dimensions only (i.e. the dimensions both items/users have non-zero values in)"
      ]
    },
    {
      "cell_type": "code",
      "execution_count": 10,
      "metadata": {
        "id": "IyH1y6qJNvoY"
      },
      "outputs": [],
      "source": [
        "def msd_sim(vec_a, vec_b):\n",
        "    common_items = vec_a.index.intersection(vec_b.index)\n",
        "    \n",
        "    if len(common_items) == 0:\n",
        "        return 0.0\n",
        "    \n",
        "    diff_square = np.sum((vec_a[common_items] - vec_b[common_items]) ** 2)\n",
        "    \n",
        "    msd = diff_square / len(common_items)\n",
        "    \n",
        "    sim_score = 1 / (1 + msd)\n",
        "\n",
        "    return sim_score"
      ]
    },
    {
      "cell_type": "code",
      "execution_count": 11,
      "metadata": {
        "id": "yi8x-YyhNvoa",
        "outputId": "1558238a-0c9b-4c10-933f-1ff7ef0c40df"
      },
      "outputs": [
        {
          "name": "stdout",
          "output_type": "stream",
          "text": [
            "MSD Similarity between userID 56 and userID 227 is: 1.0\n",
            "MSD Similarity between songID 3785 and songID 17029 is: 0.9999258806307558\n"
          ]
        }
      ],
      "source": [
        "print(f'MSD Similarity between userID 56 and userID 227 is: {msd_sim(utility_matrix.iloc[56].copy(), utility_matrix.iloc[227].copy())}')\n",
        "print(f'MSD Similarity between songID 3785 and songID 17029 is: {msd_sim(utility_matrix[3785].copy(), utility_matrix[17029].copy())}')"
      ]
    },
    {
      "cell_type": "markdown",
      "metadata": {
        "id": "vctnqo4uNvob"
      },
      "source": [
        "--------------------------\n",
        "\n",
        "# `04` Collaborative Filtering\n",
        "\n",
        "Practice for item-based collaborative filtering"
      ]
    },
    {
      "cell_type": "markdown",
      "metadata": {
        "id": "ue-tUPq4Nvob"
      },
      "source": [
        "## `0` Utility Matrix\n",
        "Construct utility matrix for the loaded data `ratings`\n",
        "- Songs as Index\n",
        "- Users as Columns"
      ]
    },
    {
      "cell_type": "code",
      "execution_count": 12,
      "metadata": {
        "id": "Qnla9pg3Nvob"
      },
      "outputs": [],
      "source": [
        "utility_matrix = pd.pivot_table(ratings, index='userID', columns='songID', values='rating')"
      ]
    },
    {
      "cell_type": "code",
      "execution_count": 13,
      "metadata": {
        "id": "o4X40o3dNvoc",
        "outputId": "9777c37b-4f22-4385-d579-6fb9af119ff6"
      },
      "outputs": [
        {
          "data": {
            "application/vnd.microsoft.datawrangler.viewer.v0+json": {
              "columns": [
                {
                  "name": "userID",
                  "rawType": "int64",
                  "type": "integer"
                },
                {
                  "name": "2263",
                  "rawType": "float64",
                  "type": "float"
                },
                {
                  "name": "2726",
                  "rawType": "float64",
                  "type": "float"
                },
                {
                  "name": "3785",
                  "rawType": "float64",
                  "type": "float"
                },
                {
                  "name": "8063",
                  "rawType": "float64",
                  "type": "float"
                },
                {
                  "name": "12709",
                  "rawType": "float64",
                  "type": "float"
                },
                {
                  "name": "13859",
                  "rawType": "float64",
                  "type": "float"
                },
                {
                  "name": "16548",
                  "rawType": "float64",
                  "type": "float"
                },
                {
                  "name": "17029",
                  "rawType": "float64",
                  "type": "float"
                },
                {
                  "name": "19299",
                  "rawType": "float64",
                  "type": "float"
                },
                {
                  "name": "19670",
                  "rawType": "float64",
                  "type": "float"
                },
                {
                  "name": "22763",
                  "rawType": "float64",
                  "type": "float"
                },
                {
                  "name": "24427",
                  "rawType": "float64",
                  "type": "float"
                },
                {
                  "name": "25182",
                  "rawType": "float64",
                  "type": "float"
                },
                {
                  "name": "28985",
                  "rawType": "float64",
                  "type": "float"
                },
                {
                  "name": "36561",
                  "rawType": "float64",
                  "type": "float"
                },
                {
                  "name": "40712",
                  "rawType": "float64",
                  "type": "float"
                },
                {
                  "name": "42781",
                  "rawType": "float64",
                  "type": "float"
                },
                {
                  "name": "42906",
                  "rawType": "float64",
                  "type": "float"
                },
                {
                  "name": "43267",
                  "rawType": "float64",
                  "type": "float"
                },
                {
                  "name": "43827",
                  "rawType": "float64",
                  "type": "float"
                },
                {
                  "name": "45026",
                  "rawType": "float64",
                  "type": "float"
                },
                {
                  "name": "45934",
                  "rawType": "float64",
                  "type": "float"
                },
                {
                  "name": "48731",
                  "rawType": "float64",
                  "type": "float"
                },
                {
                  "name": "52611",
                  "rawType": "float64",
                  "type": "float"
                },
                {
                  "name": "54042",
                  "rawType": "float64",
                  "type": "float"
                },
                {
                  "name": "55240",
                  "rawType": "float64",
                  "type": "float"
                },
                {
                  "name": "55622",
                  "rawType": "float64",
                  "type": "float"
                },
                {
                  "name": "56660",
                  "rawType": "float64",
                  "type": "float"
                },
                {
                  "name": "60465",
                  "rawType": "float64",
                  "type": "float"
                },
                {
                  "name": "60888",
                  "rawType": "float64",
                  "type": "float"
                },
                {
                  "name": "62954",
                  "rawType": "float64",
                  "type": "float"
                },
                {
                  "name": "68572",
                  "rawType": "float64",
                  "type": "float"
                },
                {
                  "name": "71582",
                  "rawType": "float64",
                  "type": "float"
                },
                {
                  "name": "72017",
                  "rawType": "float64",
                  "type": "float"
                },
                {
                  "name": "72309",
                  "rawType": "float64",
                  "type": "float"
                },
                {
                  "name": "74640",
                  "rawType": "float64",
                  "type": "float"
                },
                {
                  "name": "79622",
                  "rawType": "float64",
                  "type": "float"
                },
                {
                  "name": "86341",
                  "rawType": "float64",
                  "type": "float"
                },
                {
                  "name": "90409",
                  "rawType": "float64",
                  "type": "float"
                },
                {
                  "name": "91266",
                  "rawType": "float64",
                  "type": "float"
                },
                {
                  "name": "92881",
                  "rawType": "float64",
                  "type": "float"
                },
                {
                  "name": "94535",
                  "rawType": "float64",
                  "type": "float"
                },
                {
                  "name": "94604",
                  "rawType": "float64",
                  "type": "float"
                },
                {
                  "name": "105421",
                  "rawType": "float64",
                  "type": "float"
                },
                {
                  "name": "105433",
                  "rawType": "float64",
                  "type": "float"
                },
                {
                  "name": "112023",
                  "rawType": "float64",
                  "type": "float"
                },
                {
                  "name": "113954",
                  "rawType": "float64",
                  "type": "float"
                },
                {
                  "name": "119103",
                  "rawType": "float64",
                  "type": "float"
                },
                {
                  "name": "120147",
                  "rawType": "float64",
                  "type": "float"
                },
                {
                  "name": "122065",
                  "rawType": "float64",
                  "type": "float"
                },
                {
                  "name": "123176",
                  "rawType": "float64",
                  "type": "float"
                },
                {
                  "name": "125557",
                  "rawType": "float64",
                  "type": "float"
                },
                {
                  "name": "126757",
                  "rawType": "float64",
                  "type": "float"
                },
                {
                  "name": "131048",
                  "rawType": "float64",
                  "type": "float"
                },
                {
                  "name": "132189",
                  "rawType": "float64",
                  "type": "float"
                },
                {
                  "name": "134732",
                  "rawType": "float64",
                  "type": "float"
                }
              ],
              "conversionMethod": "pd.DataFrame",
              "ref": "3d90de94-09c1-4020-9554-b41f96cd8b70",
              "rows": [
                [
                  "0",
                  null,
                  null,
                  null,
                  null,
                  null,
                  null,
                  null,
                  null,
                  null,
                  null,
                  null,
                  null,
                  null,
                  null,
                  null,
                  null,
                  null,
                  null,
                  null,
                  null,
                  null,
                  null,
                  null,
                  null,
                  null,
                  null,
                  null,
                  null,
                  null,
                  null,
                  null,
                  null,
                  null,
                  null,
                  null,
                  null,
                  null,
                  null,
                  "5.0",
                  null,
                  null,
                  null,
                  null,
                  null,
                  null,
                  null,
                  null,
                  null,
                  null,
                  null,
                  null,
                  null,
                  null,
                  null,
                  null,
                  null
                ],
                [
                  "4",
                  null,
                  null,
                  null,
                  null,
                  null,
                  null,
                  null,
                  null,
                  null,
                  null,
                  null,
                  null,
                  null,
                  null,
                  null,
                  null,
                  null,
                  null,
                  null,
                  null,
                  null,
                  null,
                  null,
                  null,
                  null,
                  null,
                  null,
                  null,
                  null,
                  null,
                  null,
                  null,
                  null,
                  null,
                  null,
                  null,
                  null,
                  null,
                  null,
                  "1.0",
                  null,
                  null,
                  null,
                  null,
                  null,
                  null,
                  null,
                  null,
                  null,
                  null,
                  null,
                  null,
                  null,
                  null,
                  null,
                  null
                ],
                [
                  "5",
                  null,
                  null,
                  null,
                  "2.0",
                  null,
                  null,
                  null,
                  null,
                  null,
                  null,
                  null,
                  "4.0",
                  null,
                  null,
                  null,
                  null,
                  null,
                  null,
                  null,
                  null,
                  null,
                  null,
                  null,
                  null,
                  null,
                  null,
                  null,
                  null,
                  null,
                  null,
                  null,
                  null,
                  null,
                  null,
                  null,
                  null,
                  null,
                  null,
                  null,
                  null,
                  null,
                  null,
                  null,
                  null,
                  "4.0",
                  null,
                  null,
                  null,
                  null,
                  null,
                  null,
                  null,
                  null,
                  null,
                  null,
                  null
                ],
                [
                  "7",
                  null,
                  null,
                  null,
                  null,
                  null,
                  null,
                  null,
                  null,
                  null,
                  null,
                  null,
                  null,
                  null,
                  null,
                  null,
                  null,
                  null,
                  null,
                  null,
                  null,
                  null,
                  null,
                  null,
                  null,
                  null,
                  null,
                  null,
                  null,
                  null,
                  null,
                  null,
                  null,
                  null,
                  null,
                  null,
                  null,
                  null,
                  null,
                  null,
                  null,
                  null,
                  null,
                  null,
                  null,
                  null,
                  null,
                  null,
                  null,
                  null,
                  null,
                  null,
                  null,
                  null,
                  null,
                  null,
                  "3.0"
                ],
                [
                  "14",
                  null,
                  null,
                  null,
                  null,
                  null,
                  null,
                  null,
                  null,
                  null,
                  null,
                  null,
                  null,
                  null,
                  null,
                  null,
                  null,
                  null,
                  null,
                  null,
                  null,
                  null,
                  null,
                  null,
                  null,
                  null,
                  null,
                  null,
                  null,
                  null,
                  null,
                  null,
                  null,
                  null,
                  null,
                  null,
                  null,
                  null,
                  null,
                  null,
                  null,
                  null,
                  null,
                  null,
                  "3.0",
                  null,
                  null,
                  null,
                  null,
                  null,
                  null,
                  null,
                  null,
                  null,
                  null,
                  null,
                  null
                ]
              ],
              "shape": {
                "columns": 56,
                "rows": 5
              }
            },
            "text/html": [
              "<div>\n",
              "<style scoped>\n",
              "    .dataframe tbody tr th:only-of-type {\n",
              "        vertical-align: middle;\n",
              "    }\n",
              "\n",
              "    .dataframe tbody tr th {\n",
              "        vertical-align: top;\n",
              "    }\n",
              "\n",
              "    .dataframe thead th {\n",
              "        text-align: right;\n",
              "    }\n",
              "</style>\n",
              "<table border=\"1\" class=\"dataframe\">\n",
              "  <thead>\n",
              "    <tr style=\"text-align: right;\">\n",
              "      <th>songID</th>\n",
              "      <th>2263</th>\n",
              "      <th>2726</th>\n",
              "      <th>3785</th>\n",
              "      <th>8063</th>\n",
              "      <th>12709</th>\n",
              "      <th>13859</th>\n",
              "      <th>16548</th>\n",
              "      <th>17029</th>\n",
              "      <th>19299</th>\n",
              "      <th>19670</th>\n",
              "      <th>...</th>\n",
              "      <th>113954</th>\n",
              "      <th>119103</th>\n",
              "      <th>120147</th>\n",
              "      <th>122065</th>\n",
              "      <th>123176</th>\n",
              "      <th>125557</th>\n",
              "      <th>126757</th>\n",
              "      <th>131048</th>\n",
              "      <th>132189</th>\n",
              "      <th>134732</th>\n",
              "    </tr>\n",
              "    <tr>\n",
              "      <th>userID</th>\n",
              "      <th></th>\n",
              "      <th></th>\n",
              "      <th></th>\n",
              "      <th></th>\n",
              "      <th></th>\n",
              "      <th></th>\n",
              "      <th></th>\n",
              "      <th></th>\n",
              "      <th></th>\n",
              "      <th></th>\n",
              "      <th></th>\n",
              "      <th></th>\n",
              "      <th></th>\n",
              "      <th></th>\n",
              "      <th></th>\n",
              "      <th></th>\n",
              "      <th></th>\n",
              "      <th></th>\n",
              "      <th></th>\n",
              "      <th></th>\n",
              "      <th></th>\n",
              "    </tr>\n",
              "  </thead>\n",
              "  <tbody>\n",
              "    <tr>\n",
              "      <th>0</th>\n",
              "      <td>NaN</td>\n",
              "      <td>NaN</td>\n",
              "      <td>NaN</td>\n",
              "      <td>NaN</td>\n",
              "      <td>NaN</td>\n",
              "      <td>NaN</td>\n",
              "      <td>NaN</td>\n",
              "      <td>NaN</td>\n",
              "      <td>NaN</td>\n",
              "      <td>NaN</td>\n",
              "      <td>...</td>\n",
              "      <td>NaN</td>\n",
              "      <td>NaN</td>\n",
              "      <td>NaN</td>\n",
              "      <td>NaN</td>\n",
              "      <td>NaN</td>\n",
              "      <td>NaN</td>\n",
              "      <td>NaN</td>\n",
              "      <td>NaN</td>\n",
              "      <td>NaN</td>\n",
              "      <td>NaN</td>\n",
              "    </tr>\n",
              "    <tr>\n",
              "      <th>4</th>\n",
              "      <td>NaN</td>\n",
              "      <td>NaN</td>\n",
              "      <td>NaN</td>\n",
              "      <td>NaN</td>\n",
              "      <td>NaN</td>\n",
              "      <td>NaN</td>\n",
              "      <td>NaN</td>\n",
              "      <td>NaN</td>\n",
              "      <td>NaN</td>\n",
              "      <td>NaN</td>\n",
              "      <td>...</td>\n",
              "      <td>NaN</td>\n",
              "      <td>NaN</td>\n",
              "      <td>NaN</td>\n",
              "      <td>NaN</td>\n",
              "      <td>NaN</td>\n",
              "      <td>NaN</td>\n",
              "      <td>NaN</td>\n",
              "      <td>NaN</td>\n",
              "      <td>NaN</td>\n",
              "      <td>NaN</td>\n",
              "    </tr>\n",
              "    <tr>\n",
              "      <th>5</th>\n",
              "      <td>NaN</td>\n",
              "      <td>NaN</td>\n",
              "      <td>NaN</td>\n",
              "      <td>2.0</td>\n",
              "      <td>NaN</td>\n",
              "      <td>NaN</td>\n",
              "      <td>NaN</td>\n",
              "      <td>NaN</td>\n",
              "      <td>NaN</td>\n",
              "      <td>NaN</td>\n",
              "      <td>...</td>\n",
              "      <td>NaN</td>\n",
              "      <td>NaN</td>\n",
              "      <td>NaN</td>\n",
              "      <td>NaN</td>\n",
              "      <td>NaN</td>\n",
              "      <td>NaN</td>\n",
              "      <td>NaN</td>\n",
              "      <td>NaN</td>\n",
              "      <td>NaN</td>\n",
              "      <td>NaN</td>\n",
              "    </tr>\n",
              "    <tr>\n",
              "      <th>7</th>\n",
              "      <td>NaN</td>\n",
              "      <td>NaN</td>\n",
              "      <td>NaN</td>\n",
              "      <td>NaN</td>\n",
              "      <td>NaN</td>\n",
              "      <td>NaN</td>\n",
              "      <td>NaN</td>\n",
              "      <td>NaN</td>\n",
              "      <td>NaN</td>\n",
              "      <td>NaN</td>\n",
              "      <td>...</td>\n",
              "      <td>NaN</td>\n",
              "      <td>NaN</td>\n",
              "      <td>NaN</td>\n",
              "      <td>NaN</td>\n",
              "      <td>NaN</td>\n",
              "      <td>NaN</td>\n",
              "      <td>NaN</td>\n",
              "      <td>NaN</td>\n",
              "      <td>NaN</td>\n",
              "      <td>3.0</td>\n",
              "    </tr>\n",
              "    <tr>\n",
              "      <th>14</th>\n",
              "      <td>NaN</td>\n",
              "      <td>NaN</td>\n",
              "      <td>NaN</td>\n",
              "      <td>NaN</td>\n",
              "      <td>NaN</td>\n",
              "      <td>NaN</td>\n",
              "      <td>NaN</td>\n",
              "      <td>NaN</td>\n",
              "      <td>NaN</td>\n",
              "      <td>NaN</td>\n",
              "      <td>...</td>\n",
              "      <td>NaN</td>\n",
              "      <td>NaN</td>\n",
              "      <td>NaN</td>\n",
              "      <td>NaN</td>\n",
              "      <td>NaN</td>\n",
              "      <td>NaN</td>\n",
              "      <td>NaN</td>\n",
              "      <td>NaN</td>\n",
              "      <td>NaN</td>\n",
              "      <td>NaN</td>\n",
              "    </tr>\n",
              "  </tbody>\n",
              "</table>\n",
              "<p>5 rows × 56 columns</p>\n",
              "</div>"
            ],
            "text/plain": [
              "songID  2263    2726    3785    8063    12709   13859   16548   17029   \\\n",
              "userID                                                                   \n",
              "0          NaN     NaN     NaN     NaN     NaN     NaN     NaN     NaN   \n",
              "4          NaN     NaN     NaN     NaN     NaN     NaN     NaN     NaN   \n",
              "5          NaN     NaN     NaN     2.0     NaN     NaN     NaN     NaN   \n",
              "7          NaN     NaN     NaN     NaN     NaN     NaN     NaN     NaN   \n",
              "14         NaN     NaN     NaN     NaN     NaN     NaN     NaN     NaN   \n",
              "\n",
              "songID  19299   19670   ...  113954  119103  120147  122065  123176  125557  \\\n",
              "userID                  ...                                                   \n",
              "0          NaN     NaN  ...     NaN     NaN     NaN     NaN     NaN     NaN   \n",
              "4          NaN     NaN  ...     NaN     NaN     NaN     NaN     NaN     NaN   \n",
              "5          NaN     NaN  ...     NaN     NaN     NaN     NaN     NaN     NaN   \n",
              "7          NaN     NaN  ...     NaN     NaN     NaN     NaN     NaN     NaN   \n",
              "14         NaN     NaN  ...     NaN     NaN     NaN     NaN     NaN     NaN   \n",
              "\n",
              "songID  126757  131048  132189  134732  \n",
              "userID                                  \n",
              "0          NaN     NaN     NaN     NaN  \n",
              "4          NaN     NaN     NaN     NaN  \n",
              "5          NaN     NaN     NaN     NaN  \n",
              "7          NaN     NaN     NaN     3.0  \n",
              "14         NaN     NaN     NaN     NaN  \n",
              "\n",
              "[5 rows x 56 columns]"
            ]
          },
          "execution_count": 13,
          "metadata": {},
          "output_type": "execute_result"
        }
      ],
      "source": [
        "utility_matrix.head()"
      ]
    },
    {
      "cell_type": "markdown",
      "metadata": {
        "id": "ExkVT0wNNvoc"
      },
      "source": [
        "## `i` Item-Item Similarity Matrix\n",
        "\n",
        "Construct item-item (Cosine/Adjusted Cosine) similarity matrix from the utility matrix  above."
      ]
    },
    {
      "cell_type": "code",
      "execution_count": 14,
      "metadata": {
        "id": "enXEWWDhNvoc"
      },
      "outputs": [],
      "source": [
        "def item_item_cosine_similarity(utility_matrix):\n",
        "    items = utility_matrix.columns\n",
        "    similarity_matrix = pd.DataFrame(index=items, columns=items)\n",
        "    \n",
        "    for item1 in items:\n",
        "        for item2 in items:\n",
        "            vec1 = utility_matrix[item1].fillna(0)\n",
        "            vec2 = utility_matrix[item2].fillna(0)\n",
        "            similarity_matrix.loc[item1, item2] = cosine_sim(vec1, vec2)\n",
        "    \n",
        "    return similarity_matrix\n",
        "\n",
        "sim_mat = item_item_cosine_similarity(utility_matrix)\n"
      ]
    },
    {
      "cell_type": "code",
      "execution_count": 15,
      "metadata": {
        "id": "yfHQACBnNvoc",
        "outputId": "cd254ecb-c9a8-43a5-efb0-e9c6bc0cdf59"
      },
      "outputs": [
        {
          "data": {
            "application/vnd.microsoft.datawrangler.viewer.v0+json": {
              "columns": [
                {
                  "name": "songID",
                  "rawType": "int64",
                  "type": "integer"
                },
                {
                  "name": "2263",
                  "rawType": "object",
                  "type": "unknown"
                },
                {
                  "name": "2726",
                  "rawType": "object",
                  "type": "unknown"
                },
                {
                  "name": "3785",
                  "rawType": "object",
                  "type": "unknown"
                },
                {
                  "name": "8063",
                  "rawType": "object",
                  "type": "unknown"
                },
                {
                  "name": "12709",
                  "rawType": "object",
                  "type": "unknown"
                },
                {
                  "name": "13859",
                  "rawType": "object",
                  "type": "unknown"
                },
                {
                  "name": "16548",
                  "rawType": "object",
                  "type": "unknown"
                },
                {
                  "name": "17029",
                  "rawType": "object",
                  "type": "unknown"
                },
                {
                  "name": "19299",
                  "rawType": "object",
                  "type": "unknown"
                },
                {
                  "name": "19670",
                  "rawType": "object",
                  "type": "unknown"
                },
                {
                  "name": "22763",
                  "rawType": "object",
                  "type": "unknown"
                },
                {
                  "name": "24427",
                  "rawType": "object",
                  "type": "unknown"
                },
                {
                  "name": "25182",
                  "rawType": "object",
                  "type": "unknown"
                },
                {
                  "name": "28985",
                  "rawType": "object",
                  "type": "unknown"
                },
                {
                  "name": "36561",
                  "rawType": "object",
                  "type": "unknown"
                },
                {
                  "name": "40712",
                  "rawType": "object",
                  "type": "unknown"
                },
                {
                  "name": "42781",
                  "rawType": "object",
                  "type": "unknown"
                },
                {
                  "name": "42906",
                  "rawType": "object",
                  "type": "unknown"
                },
                {
                  "name": "43267",
                  "rawType": "object",
                  "type": "unknown"
                },
                {
                  "name": "43827",
                  "rawType": "object",
                  "type": "unknown"
                },
                {
                  "name": "45026",
                  "rawType": "object",
                  "type": "unknown"
                },
                {
                  "name": "45934",
                  "rawType": "object",
                  "type": "unknown"
                },
                {
                  "name": "48731",
                  "rawType": "object",
                  "type": "unknown"
                },
                {
                  "name": "52611",
                  "rawType": "object",
                  "type": "unknown"
                },
                {
                  "name": "54042",
                  "rawType": "object",
                  "type": "unknown"
                },
                {
                  "name": "55240",
                  "rawType": "object",
                  "type": "unknown"
                },
                {
                  "name": "55622",
                  "rawType": "object",
                  "type": "unknown"
                },
                {
                  "name": "56660",
                  "rawType": "object",
                  "type": "unknown"
                },
                {
                  "name": "60465",
                  "rawType": "object",
                  "type": "unknown"
                },
                {
                  "name": "60888",
                  "rawType": "object",
                  "type": "unknown"
                },
                {
                  "name": "62954",
                  "rawType": "object",
                  "type": "unknown"
                },
                {
                  "name": "68572",
                  "rawType": "object",
                  "type": "unknown"
                },
                {
                  "name": "71582",
                  "rawType": "object",
                  "type": "unknown"
                },
                {
                  "name": "72017",
                  "rawType": "object",
                  "type": "unknown"
                },
                {
                  "name": "72309",
                  "rawType": "object",
                  "type": "unknown"
                },
                {
                  "name": "74640",
                  "rawType": "object",
                  "type": "unknown"
                },
                {
                  "name": "79622",
                  "rawType": "object",
                  "type": "unknown"
                },
                {
                  "name": "86341",
                  "rawType": "object",
                  "type": "unknown"
                },
                {
                  "name": "90409",
                  "rawType": "object",
                  "type": "unknown"
                },
                {
                  "name": "91266",
                  "rawType": "object",
                  "type": "unknown"
                },
                {
                  "name": "92881",
                  "rawType": "object",
                  "type": "unknown"
                },
                {
                  "name": "94535",
                  "rawType": "object",
                  "type": "unknown"
                },
                {
                  "name": "94604",
                  "rawType": "object",
                  "type": "unknown"
                },
                {
                  "name": "105421",
                  "rawType": "object",
                  "type": "unknown"
                },
                {
                  "name": "105433",
                  "rawType": "object",
                  "type": "unknown"
                },
                {
                  "name": "112023",
                  "rawType": "object",
                  "type": "unknown"
                },
                {
                  "name": "113954",
                  "rawType": "object",
                  "type": "unknown"
                },
                {
                  "name": "119103",
                  "rawType": "object",
                  "type": "unknown"
                },
                {
                  "name": "120147",
                  "rawType": "object",
                  "type": "unknown"
                },
                {
                  "name": "122065",
                  "rawType": "object",
                  "type": "unknown"
                },
                {
                  "name": "123176",
                  "rawType": "object",
                  "type": "unknown"
                },
                {
                  "name": "125557",
                  "rawType": "object",
                  "type": "unknown"
                },
                {
                  "name": "126757",
                  "rawType": "object",
                  "type": "unknown"
                },
                {
                  "name": "131048",
                  "rawType": "object",
                  "type": "unknown"
                },
                {
                  "name": "132189",
                  "rawType": "object",
                  "type": "unknown"
                },
                {
                  "name": "134732",
                  "rawType": "object",
                  "type": "unknown"
                }
              ],
              "conversionMethod": "pd.DataFrame",
              "ref": "6ddfea21-ca3d-4630-a834-f1769502ffe7",
              "rows": [
                [
                  "2263",
                  "1.0",
                  "0.01920402595312977",
                  "0.002648170221178251",
                  "0.007361821117512633",
                  "0.0021310381092689173",
                  "0.01046115509943647",
                  "0.0011274791121575695",
                  "0.013909463940554024",
                  "0.004831785917854489",
                  "0.003129995902308797",
                  "0.004523637615028516",
                  "0.0035927674433206508",
                  "0.00441359552996732",
                  "0.00205082163408473",
                  "0.009357012376457184",
                  "0.013000961936456598",
                  "0.0",
                  "0.005442902582697323",
                  "0.012299330615512903",
                  "0.0004352868761775221",
                  "0.007442810674300278",
                  "0.01543777639952305",
                  "0.0017644847137233566",
                  "0.03240197331568591",
                  "0.001688903611549375",
                  "0.026452046804282786",
                  "0.005597577020621912",
                  "0.005823381223789639",
                  "0.002759661553387806",
                  "0.007708647033286053",
                  "0.0005324508900783391",
                  "0.008849828219830255",
                  "0.05147244878213323",
                  "0.0025404501665241396",
                  "0.005375260656303256",
                  "0.016640874295363456",
                  "0.0015591499454127799",
                  "0.010431560793440531",
                  "0.0022259134802532637",
                  "0.0029373178144232455",
                  "0.005351805056494864",
                  "0.004048682978581073",
                  "0.0009704664503871362",
                  "0.003525364058781904",
                  "0.004841165524023649",
                  "0.013181556588572849",
                  "0.014557625567308803",
                  "0.01118240314562562",
                  "0.011220545428255891",
                  "0.017238943777304856",
                  "0.0037735176785547472",
                  "0.004994767433645573",
                  "0.010106781512023075",
                  "0.007415512737128793",
                  "0.0034891260209572333",
                  "0.011050784917963253"
                ],
                [
                  "2726",
                  "0.01920402595312977",
                  "1.0000000000000002",
                  "0.0060765192868121",
                  "0.015690363447760154",
                  "0.005397597289637842",
                  "0.015406712515337652",
                  "0.003484561095542133",
                  "0.03717739874351342",
                  "0.006026268560734641",
                  "0.0036838556319094486",
                  "0.0067153894093570955",
                  "0.00967338636680789",
                  "0.016423048231097265",
                  "0.006131914907875372",
                  "0.024486300250827597",
                  "0.036289766438651644",
                  "0.002932745812744407",
                  "0.020913066153265443",
                  "0.0369498349542365",
                  "0.003618653462465503",
                  "0.027875759341937863",
                  "0.01374960200642259",
                  "0.0034514405087367615",
                  "0.014079656761226413",
                  "0.0037592680884397686",
                  "0.012234521082381758",
                  "0.005848934061705599",
                  "0.0062006868824659245",
                  "0.0037593684723786595",
                  "0.004552950034470228",
                  "0.0009941654428360224",
                  "0.00841497597751794",
                  "0.011950413207355577",
                  "0.000924516578452865",
                  "0.015949719298086477",
                  "0.01861485866289894",
                  "0.0033127062833928893",
                  "0.033264526622336726",
                  "0.0075037426723415694",
                  "0.004711370771628954",
                  "0.0070085449205791696",
                  "0.0059634583240403905",
                  "0.002478325668925455",
                  "0.009407880576550613",
                  "0.010462399651457304",
                  "0.021519291385296707",
                  "0.023848323391652194",
                  "0.030855326264748007",
                  "0.0364338065584834",
                  "0.008127489022132199",
                  "0.009454612315195872",
                  "0.012780043644316987",
                  "0.013279937060062075",
                  "0.01087889888826454",
                  "0.0007479391634443136",
                  "0.01853404346993545"
                ],
                [
                  "3785",
                  "0.002648170221178251",
                  "0.0060765192868121",
                  "0.9999999999999999",
                  "0.021913503349709394",
                  "0.014540412784810873",
                  "0.01338918537733803",
                  "0.010612024374061555",
                  "0.004021058171409996",
                  "0.0062256171889174036",
                  "0.003725314891267094",
                  "0.011145875245668464",
                  "0.014580237141501367",
                  "0.019249540648278333",
                  "0.009023317401167208",
                  "0.011942862738289931",
                  "0.007774508457630766",
                  "0.009295038899180154",
                  "0.005268555826421494",
                  "0.01069236027835212",
                  "0.006542319953124046",
                  "0.006752541192915253",
                  "0.003071750875255323",
                  "0.009156197166959186",
                  "0.00356900191696889",
                  "0.008466136166010297",
                  "0.004227323233722136",
                  "0.009430409992548709",
                  "0.011976233574890274",
                  "0.003521211934585229",
                  "0.007215055510866504",
                  "0.009779735196745541",
                  "0.010236356811597382",
                  "0.006136641693766269",
                  "0.009534762850437558",
                  "0.021381534617647704",
                  "0.005253350643220349",
                  "0.00781570697748858",
                  "0.007352115487204437",
                  "0.01201915725653831",
                  "0.007309685370408925",
                  "0.0023467344242895415",
                  "0.0111775082497007",
                  "0.0035203047859823713",
                  "0.012843182486417217",
                  "0.020345341757937684",
                  "0.0012966615118011312",
                  "0.003642925573870563",
                  "0.008917969313535206",
                  "0.002273157615602571",
                  "0.004029713232084858",
                  "0.015356777365513843",
                  "0.006774900950414804",
                  "0.00606316572930217",
                  "0.010292787489109218",
                  "0.010657828949158081",
                  "0.016858106712772335"
                ],
                [
                  "8063",
                  "0.007361821117512633",
                  "0.015690363447760154",
                  "0.021913503349709394",
                  "1.0",
                  "0.016481138475860996",
                  "0.022417814880607106",
                  "0.011467227488831944",
                  "0.016541450170781135",
                  "0.03048250312967459",
                  "0.005570381090539317",
                  "0.02203629777782877",
                  "0.026933562959430255",
                  "0.016137071998906637",
                  "0.002834984459289212",
                  "0.011888519407256362",
                  "0.021980138089380093",
                  "0.010853747405956583",
                  "0.017609546876037496",
                  "0.012278963376338502",
                  "0.01877511367789548",
                  "0.021441118753844867",
                  "0.002239074752079529",
                  "0.005063895869263535",
                  "0.004129262930234772",
                  "0.012350003072885798",
                  "0.011133566711601133",
                  "0.00945602090754538",
                  "0.012521209427835571",
                  "0.008624018835000467",
                  "0.010099653862032104",
                  "0.013503586846253504",
                  "0.019384477020207177",
                  "0.00420738971626542",
                  "0.004743837524517095",
                  "0.010457198775411422",
                  "0.004978541010859767",
                  "0.003929535471499582",
                  "0.020927523353624446",
                  "0.017697422758023693",
                  "0.007136017739615606",
                  "0.01307282020969753",
                  "0.00381629774321289",
                  "0.006271615767923965",
                  "0.024522235115500404",
                  "0.034322514419764576",
                  "0.002424944407046771",
                  "0.003371832883197428",
                  "0.018184674481954197",
                  "0.006622380639088881",
                  "0.006870937092353896",
                  "0.020601145040733102",
                  "0.013036072799125697",
                  "0.011580251335332045",
                  "0.014453107901836147",
                  "0.007626380551766229",
                  "0.02946182653706811"
                ],
                [
                  "12709",
                  "0.0021310381092689173",
                  "0.005397597289637842",
                  "0.014540412784810873",
                  "0.016481138475860996",
                  "1.0",
                  "0.008662691023571346",
                  "0.0056037245624246095",
                  "0.013739831288184262",
                  "0.016230854536433362",
                  "0.011710856495529246",
                  "0.015429365160822207",
                  "0.014694213988294503",
                  "0.019044608496645472",
                  "0.015490672495404652",
                  "0.005069977739199316",
                  "0.010536943137279091",
                  "0.006329156916658989",
                  "0.012260308196712226",
                  "0.0047853161480409965",
                  "0.022957727667624078",
                  "0.005872437690286416",
                  "0.0010518733379217887",
                  "0.01222729792672714",
                  "0.002592209848815326",
                  "0.009545726397883118",
                  "0.004191266543423892",
                  "0.013723168024714434",
                  "0.02240996453665482",
                  "0.011204092193353147",
                  "0.007609142381991178",
                  "0.004286887688033142",
                  "0.01650731668448796",
                  "0.0023073464903167044",
                  "0.008356153957262632",
                  "0.013849235115102257",
                  "0.0",
                  "0.00703567081086803",
                  "0.004938351393252928",
                  "0.033867888199008024",
                  "0.006134631169191288",
                  "0.00653469326539922",
                  "0.0030304977651086323",
                  "0.01517987010127611",
                  "0.0209033557262702",
                  "0.01181800473645677",
                  "0.001987525161171932",
                  "0.003968852260707883",
                  "0.004712910214114978",
                  "0.010612990048490643",
                  "0.011159888208400482",
                  "0.007510028953865452",
                  "0.00506843755021925",
                  "0.0023814931059512765",
                  "0.008103115737069212",
                  "0.017942897090216764",
                  "0.014835662320459847"
                ]
              ],
              "shape": {
                "columns": 56,
                "rows": 5
              }
            },
            "text/html": [
              "<div>\n",
              "<style scoped>\n",
              "    .dataframe tbody tr th:only-of-type {\n",
              "        vertical-align: middle;\n",
              "    }\n",
              "\n",
              "    .dataframe tbody tr th {\n",
              "        vertical-align: top;\n",
              "    }\n",
              "\n",
              "    .dataframe thead th {\n",
              "        text-align: right;\n",
              "    }\n",
              "</style>\n",
              "<table border=\"1\" class=\"dataframe\">\n",
              "  <thead>\n",
              "    <tr style=\"text-align: right;\">\n",
              "      <th>songID</th>\n",
              "      <th>2263</th>\n",
              "      <th>2726</th>\n",
              "      <th>3785</th>\n",
              "      <th>8063</th>\n",
              "      <th>12709</th>\n",
              "      <th>13859</th>\n",
              "      <th>16548</th>\n",
              "      <th>17029</th>\n",
              "      <th>19299</th>\n",
              "      <th>19670</th>\n",
              "      <th>...</th>\n",
              "      <th>113954</th>\n",
              "      <th>119103</th>\n",
              "      <th>120147</th>\n",
              "      <th>122065</th>\n",
              "      <th>123176</th>\n",
              "      <th>125557</th>\n",
              "      <th>126757</th>\n",
              "      <th>131048</th>\n",
              "      <th>132189</th>\n",
              "      <th>134732</th>\n",
              "    </tr>\n",
              "    <tr>\n",
              "      <th>songID</th>\n",
              "      <th></th>\n",
              "      <th></th>\n",
              "      <th></th>\n",
              "      <th></th>\n",
              "      <th></th>\n",
              "      <th></th>\n",
              "      <th></th>\n",
              "      <th></th>\n",
              "      <th></th>\n",
              "      <th></th>\n",
              "      <th></th>\n",
              "      <th></th>\n",
              "      <th></th>\n",
              "      <th></th>\n",
              "      <th></th>\n",
              "      <th></th>\n",
              "      <th></th>\n",
              "      <th></th>\n",
              "      <th></th>\n",
              "      <th></th>\n",
              "      <th></th>\n",
              "    </tr>\n",
              "  </thead>\n",
              "  <tbody>\n",
              "    <tr>\n",
              "      <th>2263</th>\n",
              "      <td>1.0</td>\n",
              "      <td>0.019204</td>\n",
              "      <td>0.002648</td>\n",
              "      <td>0.007362</td>\n",
              "      <td>0.002131</td>\n",
              "      <td>0.010461</td>\n",
              "      <td>0.001127</td>\n",
              "      <td>0.013909</td>\n",
              "      <td>0.004832</td>\n",
              "      <td>0.00313</td>\n",
              "      <td>...</td>\n",
              "      <td>0.014558</td>\n",
              "      <td>0.011182</td>\n",
              "      <td>0.011221</td>\n",
              "      <td>0.017239</td>\n",
              "      <td>0.003774</td>\n",
              "      <td>0.004995</td>\n",
              "      <td>0.010107</td>\n",
              "      <td>0.007416</td>\n",
              "      <td>0.003489</td>\n",
              "      <td>0.011051</td>\n",
              "    </tr>\n",
              "    <tr>\n",
              "      <th>2726</th>\n",
              "      <td>0.019204</td>\n",
              "      <td>1.0</td>\n",
              "      <td>0.006077</td>\n",
              "      <td>0.01569</td>\n",
              "      <td>0.005398</td>\n",
              "      <td>0.015407</td>\n",
              "      <td>0.003485</td>\n",
              "      <td>0.037177</td>\n",
              "      <td>0.006026</td>\n",
              "      <td>0.003684</td>\n",
              "      <td>...</td>\n",
              "      <td>0.023848</td>\n",
              "      <td>0.030855</td>\n",
              "      <td>0.036434</td>\n",
              "      <td>0.008127</td>\n",
              "      <td>0.009455</td>\n",
              "      <td>0.01278</td>\n",
              "      <td>0.01328</td>\n",
              "      <td>0.010879</td>\n",
              "      <td>0.000748</td>\n",
              "      <td>0.018534</td>\n",
              "    </tr>\n",
              "    <tr>\n",
              "      <th>3785</th>\n",
              "      <td>0.002648</td>\n",
              "      <td>0.006077</td>\n",
              "      <td>1.0</td>\n",
              "      <td>0.021914</td>\n",
              "      <td>0.01454</td>\n",
              "      <td>0.013389</td>\n",
              "      <td>0.010612</td>\n",
              "      <td>0.004021</td>\n",
              "      <td>0.006226</td>\n",
              "      <td>0.003725</td>\n",
              "      <td>...</td>\n",
              "      <td>0.003643</td>\n",
              "      <td>0.008918</td>\n",
              "      <td>0.002273</td>\n",
              "      <td>0.00403</td>\n",
              "      <td>0.015357</td>\n",
              "      <td>0.006775</td>\n",
              "      <td>0.006063</td>\n",
              "      <td>0.010293</td>\n",
              "      <td>0.010658</td>\n",
              "      <td>0.016858</td>\n",
              "    </tr>\n",
              "    <tr>\n",
              "      <th>8063</th>\n",
              "      <td>0.007362</td>\n",
              "      <td>0.01569</td>\n",
              "      <td>0.021914</td>\n",
              "      <td>1.0</td>\n",
              "      <td>0.016481</td>\n",
              "      <td>0.022418</td>\n",
              "      <td>0.011467</td>\n",
              "      <td>0.016541</td>\n",
              "      <td>0.030483</td>\n",
              "      <td>0.00557</td>\n",
              "      <td>...</td>\n",
              "      <td>0.003372</td>\n",
              "      <td>0.018185</td>\n",
              "      <td>0.006622</td>\n",
              "      <td>0.006871</td>\n",
              "      <td>0.020601</td>\n",
              "      <td>0.013036</td>\n",
              "      <td>0.01158</td>\n",
              "      <td>0.014453</td>\n",
              "      <td>0.007626</td>\n",
              "      <td>0.029462</td>\n",
              "    </tr>\n",
              "    <tr>\n",
              "      <th>12709</th>\n",
              "      <td>0.002131</td>\n",
              "      <td>0.005398</td>\n",
              "      <td>0.01454</td>\n",
              "      <td>0.016481</td>\n",
              "      <td>1.0</td>\n",
              "      <td>0.008663</td>\n",
              "      <td>0.005604</td>\n",
              "      <td>0.01374</td>\n",
              "      <td>0.016231</td>\n",
              "      <td>0.011711</td>\n",
              "      <td>...</td>\n",
              "      <td>0.003969</td>\n",
              "      <td>0.004713</td>\n",
              "      <td>0.010613</td>\n",
              "      <td>0.01116</td>\n",
              "      <td>0.00751</td>\n",
              "      <td>0.005068</td>\n",
              "      <td>0.002381</td>\n",
              "      <td>0.008103</td>\n",
              "      <td>0.017943</td>\n",
              "      <td>0.014836</td>\n",
              "    </tr>\n",
              "  </tbody>\n",
              "</table>\n",
              "<p>5 rows × 56 columns</p>\n",
              "</div>"
            ],
            "text/plain": [
              "songID    2263      2726      3785      8063      12709     13859     16548   \\\n",
              "songID                                                                         \n",
              "2263         1.0  0.019204  0.002648  0.007362  0.002131  0.010461  0.001127   \n",
              "2726    0.019204       1.0  0.006077   0.01569  0.005398  0.015407  0.003485   \n",
              "3785    0.002648  0.006077       1.0  0.021914   0.01454  0.013389  0.010612   \n",
              "8063    0.007362   0.01569  0.021914       1.0  0.016481  0.022418  0.011467   \n",
              "12709   0.002131  0.005398   0.01454  0.016481       1.0  0.008663  0.005604   \n",
              "\n",
              "songID    17029     19299     19670   ...    113954    119103    120147  \\\n",
              "songID                                ...                                 \n",
              "2263    0.013909  0.004832   0.00313  ...  0.014558  0.011182  0.011221   \n",
              "2726    0.037177  0.006026  0.003684  ...  0.023848  0.030855  0.036434   \n",
              "3785    0.004021  0.006226  0.003725  ...  0.003643  0.008918  0.002273   \n",
              "8063    0.016541  0.030483   0.00557  ...  0.003372  0.018185  0.006622   \n",
              "12709    0.01374  0.016231  0.011711  ...  0.003969  0.004713  0.010613   \n",
              "\n",
              "songID    122065    123176    125557    126757    131048    132189    134732  \n",
              "songID                                                                        \n",
              "2263    0.017239  0.003774  0.004995  0.010107  0.007416  0.003489  0.011051  \n",
              "2726    0.008127  0.009455   0.01278   0.01328  0.010879  0.000748  0.018534  \n",
              "3785     0.00403  0.015357  0.006775  0.006063  0.010293  0.010658  0.016858  \n",
              "8063    0.006871  0.020601  0.013036   0.01158  0.014453  0.007626  0.029462  \n",
              "12709    0.01116   0.00751  0.005068  0.002381  0.008103  0.017943  0.014836  \n",
              "\n",
              "[5 rows x 56 columns]"
            ]
          },
          "execution_count": 15,
          "metadata": {},
          "output_type": "execute_result"
        }
      ],
      "source": [
        "sim_df = sim_mat.copy()\n",
        "sim_df.head()"
      ]
    },
    {
      "cell_type": "markdown",
      "metadata": {
        "id": "u4bb-ikLNvod"
      },
      "source": [
        "## `ii` Candidate Generation and Filtering\n",
        "\n",
        "Filter out items (user 199988) has rated from the similarity matrix above."
      ]
    },
    {
      "cell_type": "code",
      "execution_count": 32,
      "metadata": {
        "id": "7UrOO6uXNvod",
        "outputId": "37b173a5-a7e0-45ce-a776-0d763043d276"
      },
      "outputs": [
        {
          "data": {
            "text/plain": [
              "Index([2726, 19299, 43267, 56660], dtype='int64', name='songID')"
            ]
          },
          "execution_count": 32,
          "metadata": {},
          "output_type": "execute_result"
        }
      ],
      "source": [
        "user_id = 199988\n",
        "\n",
        "# Get items the user has rated\n",
        "rated_items = utility_matrix.loc[user_id].dropna().index\n",
        "\n",
        "rated_items"
      ]
    },
    {
      "cell_type": "code",
      "execution_count": 35,
      "metadata": {
        "id": "RRjFsPCPNvod"
      },
      "outputs": [],
      "source": [
        "# Get all items\n",
        "all_items = utility_matrix.columns\n",
        "\n",
        "# Find items the user has not rated\n",
        "potential_items = all_items.difference(rated_items)\n",
        "\n",
        "# Filter and transpose\n",
        "filtered_sim_df = sim_mat.loc[rated_items, potential_items]"
      ]
    },
    {
      "cell_type": "code",
      "execution_count": 36,
      "metadata": {
        "id": "8L2qX_gmNvod",
        "outputId": "6e523469-5c55-4685-f920-9817237ae730"
      },
      "outputs": [
        {
          "data": {
            "application/vnd.microsoft.datawrangler.viewer.v0+json": {
              "columns": [
                {
                  "name": "songID",
                  "rawType": "int64",
                  "type": "integer"
                },
                {
                  "name": "2263",
                  "rawType": "object",
                  "type": "unknown"
                },
                {
                  "name": "3785",
                  "rawType": "object",
                  "type": "unknown"
                },
                {
                  "name": "8063",
                  "rawType": "object",
                  "type": "unknown"
                },
                {
                  "name": "12709",
                  "rawType": "object",
                  "type": "unknown"
                },
                {
                  "name": "13859",
                  "rawType": "object",
                  "type": "unknown"
                },
                {
                  "name": "16548",
                  "rawType": "object",
                  "type": "unknown"
                },
                {
                  "name": "17029",
                  "rawType": "object",
                  "type": "unknown"
                },
                {
                  "name": "19670",
                  "rawType": "object",
                  "type": "unknown"
                },
                {
                  "name": "22763",
                  "rawType": "object",
                  "type": "unknown"
                },
                {
                  "name": "24427",
                  "rawType": "object",
                  "type": "unknown"
                },
                {
                  "name": "25182",
                  "rawType": "object",
                  "type": "unknown"
                },
                {
                  "name": "28985",
                  "rawType": "object",
                  "type": "unknown"
                },
                {
                  "name": "36561",
                  "rawType": "object",
                  "type": "unknown"
                },
                {
                  "name": "40712",
                  "rawType": "object",
                  "type": "unknown"
                },
                {
                  "name": "42781",
                  "rawType": "object",
                  "type": "unknown"
                },
                {
                  "name": "42906",
                  "rawType": "object",
                  "type": "unknown"
                },
                {
                  "name": "43827",
                  "rawType": "object",
                  "type": "unknown"
                },
                {
                  "name": "45026",
                  "rawType": "object",
                  "type": "unknown"
                },
                {
                  "name": "45934",
                  "rawType": "object",
                  "type": "unknown"
                },
                {
                  "name": "48731",
                  "rawType": "object",
                  "type": "unknown"
                },
                {
                  "name": "52611",
                  "rawType": "object",
                  "type": "unknown"
                },
                {
                  "name": "54042",
                  "rawType": "object",
                  "type": "unknown"
                },
                {
                  "name": "55240",
                  "rawType": "object",
                  "type": "unknown"
                },
                {
                  "name": "55622",
                  "rawType": "object",
                  "type": "unknown"
                },
                {
                  "name": "60465",
                  "rawType": "object",
                  "type": "unknown"
                },
                {
                  "name": "60888",
                  "rawType": "object",
                  "type": "unknown"
                },
                {
                  "name": "62954",
                  "rawType": "object",
                  "type": "unknown"
                },
                {
                  "name": "68572",
                  "rawType": "object",
                  "type": "unknown"
                },
                {
                  "name": "71582",
                  "rawType": "object",
                  "type": "unknown"
                },
                {
                  "name": "72017",
                  "rawType": "object",
                  "type": "unknown"
                },
                {
                  "name": "72309",
                  "rawType": "object",
                  "type": "unknown"
                },
                {
                  "name": "74640",
                  "rawType": "object",
                  "type": "unknown"
                },
                {
                  "name": "79622",
                  "rawType": "object",
                  "type": "unknown"
                },
                {
                  "name": "86341",
                  "rawType": "object",
                  "type": "unknown"
                },
                {
                  "name": "90409",
                  "rawType": "object",
                  "type": "unknown"
                },
                {
                  "name": "91266",
                  "rawType": "object",
                  "type": "unknown"
                },
                {
                  "name": "92881",
                  "rawType": "object",
                  "type": "unknown"
                },
                {
                  "name": "94535",
                  "rawType": "object",
                  "type": "unknown"
                },
                {
                  "name": "94604",
                  "rawType": "object",
                  "type": "unknown"
                },
                {
                  "name": "105421",
                  "rawType": "object",
                  "type": "unknown"
                },
                {
                  "name": "105433",
                  "rawType": "object",
                  "type": "unknown"
                },
                {
                  "name": "112023",
                  "rawType": "object",
                  "type": "unknown"
                },
                {
                  "name": "113954",
                  "rawType": "object",
                  "type": "unknown"
                },
                {
                  "name": "119103",
                  "rawType": "object",
                  "type": "unknown"
                },
                {
                  "name": "120147",
                  "rawType": "object",
                  "type": "unknown"
                },
                {
                  "name": "122065",
                  "rawType": "object",
                  "type": "unknown"
                },
                {
                  "name": "123176",
                  "rawType": "object",
                  "type": "unknown"
                },
                {
                  "name": "125557",
                  "rawType": "object",
                  "type": "unknown"
                },
                {
                  "name": "126757",
                  "rawType": "object",
                  "type": "unknown"
                },
                {
                  "name": "131048",
                  "rawType": "object",
                  "type": "unknown"
                },
                {
                  "name": "132189",
                  "rawType": "object",
                  "type": "unknown"
                },
                {
                  "name": "134732",
                  "rawType": "object",
                  "type": "unknown"
                }
              ],
              "conversionMethod": "pd.DataFrame",
              "ref": "3925391c-d7a0-4fd3-b798-fc80ddaad73f",
              "rows": [
                [
                  "2726",
                  "0.01920402595312977",
                  "0.0060765192868121",
                  "0.015690363447760154",
                  "0.005397597289637842",
                  "0.015406712515337652",
                  "0.003484561095542133",
                  "0.03717739874351342",
                  "0.0036838556319094486",
                  "0.0067153894093570955",
                  "0.00967338636680789",
                  "0.016423048231097265",
                  "0.006131914907875372",
                  "0.024486300250827597",
                  "0.036289766438651644",
                  "0.002932745812744407",
                  "0.020913066153265443",
                  "0.003618653462465503",
                  "0.027875759341937863",
                  "0.01374960200642259",
                  "0.0034514405087367615",
                  "0.014079656761226413",
                  "0.0037592680884397686",
                  "0.012234521082381758",
                  "0.005848934061705599",
                  "0.0037593684723786595",
                  "0.004552950034470228",
                  "0.0009941654428360224",
                  "0.00841497597751794",
                  "0.011950413207355577",
                  "0.000924516578452865",
                  "0.015949719298086477",
                  "0.01861485866289894",
                  "0.0033127062833928893",
                  "0.033264526622336726",
                  "0.0075037426723415694",
                  "0.004711370771628954",
                  "0.0070085449205791696",
                  "0.0059634583240403905",
                  "0.002478325668925455",
                  "0.009407880576550613",
                  "0.010462399651457304",
                  "0.021519291385296707",
                  "0.023848323391652194",
                  "0.030855326264748007",
                  "0.0364338065584834",
                  "0.008127489022132199",
                  "0.009454612315195872",
                  "0.012780043644316987",
                  "0.013279937060062075",
                  "0.01087889888826454",
                  "0.0007479391634443136",
                  "0.01853404346993545"
                ],
                [
                  "19299",
                  "0.004831785917854489",
                  "0.0062256171889174036",
                  "0.03048250312967459",
                  "0.016230854536433362",
                  "0.019555077389350622",
                  "0.021714500534985408",
                  "0.009046381795900187",
                  "0.01524619810674023",
                  "0.030448094319963974",
                  "0.024521241427512972",
                  "0.015014724497139033",
                  "0.008482592839315128",
                  "0.011977470521405312",
                  "0.010888641633792792",
                  "0.0026969232587362103",
                  "0.009410150729031577",
                  "0.03052729538862933",
                  "0.008661842935713046",
                  "0.0020479967606068968",
                  "0.008772641833332265",
                  "0.0013860217783060024",
                  "0.015550387685020496",
                  "0.01485825064270429",
                  "0.0161606854516399",
                  "0.01802009940760409",
                  "0.01143331187767932",
                  "0.010952274869527958",
                  "0.012495271270729252",
                  "0.0008217808972636285",
                  "0.013177728842563623",
                  "0.012554101977486565",
                  "0.0017844777909031817",
                  "0.019198580835018228",
                  "0.0112903024089519",
                  "0.01965424628921207",
                  "0.01121336462820215",
                  "0.006663061973043666",
                  "0.00256310717715342",
                  "0.020813519732133343",
                  "0.023708575462368445",
                  "0.05170472249034584",
                  "0.0030635206554111265",
                  "0.0033172979968256805",
                  "0.013555503844510229",
                  "0.004492062018443407",
                  "0.01858091602267851",
                  "0.03782811632491236",
                  "0.00530201753565716",
                  "0.00400533618548332",
                  "0.019137805448288348",
                  "0.00850818434002387",
                  "0.029209056412739305"
                ],
                [
                  "43267",
                  "0.012299330615512903",
                  "0.01069236027835212",
                  "0.012278963376338502",
                  "0.0047853161480409965",
                  "0.010739988179956104",
                  "0.006430750208285683",
                  "0.02785139779007628",
                  "0.0020847271628470893",
                  "0.007527786536176555",
                  "0.015043845565949307",
                  "0.01572069651869007",
                  "0.0018420749661214187",
                  "0.012919220179031398",
                  "0.022534852236773116",
                  "0.0038011735727263864",
                  "0.02937073508969561",
                  "0.005180490266821763",
                  "0.027660788750276076",
                  "0.010661890347132255",
                  "0.002401338451625992",
                  "0.004353571938505218",
                  "0.0028770603134195306",
                  "0.0040477110798132175",
                  "0.008487127501457494",
                  "0.004371035269953969",
                  "0.005339129666415451",
                  "0.0038042963061777667",
                  "0.00441612894918786",
                  "0.0032504752634196486",
                  "0.0023216657381076116",
                  "0.01089397936556684",
                  "0.011502223739382304",
                  "0.004285856817995525",
                  "0.027401115410735134",
                  "0.0095713313233741",
                  "0.005474550302862216",
                  "0.0075364950284964325",
                  "0.011939375092979366",
                  "0.0028450853695647167",
                  "0.009103769053947074",
                  "0.008021743291665604",
                  "0.018063645669761985",
                  "0.013484471096771655",
                  "0.03451171088826769",
                  "0.0379621296014404",
                  "0.0054591893103883606",
                  "0.009854081528764642",
                  "0.012405481202956883",
                  "0.01746536743065339",
                  "0.009158477730150945",
                  "0.0010732804398556508",
                  "0.026026565993257644"
                ],
                [
                  "56660",
                  "0.005823381223789639",
                  "0.011976233574890274",
                  "0.012521209427835571",
                  "0.02240996453665482",
                  "0.008185159416257361",
                  "0.0024080955337790655",
                  "0.012607537125929344",
                  "0.010788278430392177",
                  "0.01624352959965465",
                  "0.015606334099062034",
                  "0.022073917272506818",
                  "0.005525165563326813",
                  "0.010007782856871901",
                  "0.014446647501909136",
                  "0.014395902190985603",
                  "0.008959838635499349",
                  "0.024033620590686824",
                  "0.0073412944314403495",
                  "0.0",
                  "0.03365279060741025",
                  "0.00040507402402307623",
                  "0.00906431087199986",
                  "0.008290078246818058",
                  "0.017392882087772364",
                  "0.023345931627896086",
                  "0.015411115973123876",
                  "0.008963586931425965",
                  "0.014131563524046637",
                  "0.0024183875129600613",
                  "0.0056380492965944825",
                  "0.007814511362108133",
                  "0.0010634229406665079",
                  "0.00763496863165077",
                  "0.01416613300196681",
                  "0.04046090759599067",
                  "0.017686185141963146",
                  "0.005513271935558587",
                  "0.009753392584720492",
                  "0.017150366708197685",
                  "0.022142377755818468",
                  "0.0174755891787451",
                  "0.0020498439895428916",
                  "0.001653856798908731",
                  "0.011231124659522897",
                  "0.008554916120492013",
                  "0.009993243753785996",
                  "0.01974911310995925",
                  "0.0085976288664583",
                  "0.006939164765402092",
                  "0.010053338721928182",
                  "0.0218286665521406",
                  "0.022804128103491278"
                ]
              ],
              "shape": {
                "columns": 52,
                "rows": 4
              }
            },
            "text/html": [
              "<div>\n",
              "<style scoped>\n",
              "    .dataframe tbody tr th:only-of-type {\n",
              "        vertical-align: middle;\n",
              "    }\n",
              "\n",
              "    .dataframe tbody tr th {\n",
              "        vertical-align: top;\n",
              "    }\n",
              "\n",
              "    .dataframe thead th {\n",
              "        text-align: right;\n",
              "    }\n",
              "</style>\n",
              "<table border=\"1\" class=\"dataframe\">\n",
              "  <thead>\n",
              "    <tr style=\"text-align: right;\">\n",
              "      <th>songID</th>\n",
              "      <th>2263</th>\n",
              "      <th>3785</th>\n",
              "      <th>8063</th>\n",
              "      <th>12709</th>\n",
              "      <th>13859</th>\n",
              "      <th>16548</th>\n",
              "      <th>17029</th>\n",
              "      <th>19670</th>\n",
              "      <th>22763</th>\n",
              "      <th>24427</th>\n",
              "      <th>...</th>\n",
              "      <th>113954</th>\n",
              "      <th>119103</th>\n",
              "      <th>120147</th>\n",
              "      <th>122065</th>\n",
              "      <th>123176</th>\n",
              "      <th>125557</th>\n",
              "      <th>126757</th>\n",
              "      <th>131048</th>\n",
              "      <th>132189</th>\n",
              "      <th>134732</th>\n",
              "    </tr>\n",
              "    <tr>\n",
              "      <th>songID</th>\n",
              "      <th></th>\n",
              "      <th></th>\n",
              "      <th></th>\n",
              "      <th></th>\n",
              "      <th></th>\n",
              "      <th></th>\n",
              "      <th></th>\n",
              "      <th></th>\n",
              "      <th></th>\n",
              "      <th></th>\n",
              "      <th></th>\n",
              "      <th></th>\n",
              "      <th></th>\n",
              "      <th></th>\n",
              "      <th></th>\n",
              "      <th></th>\n",
              "      <th></th>\n",
              "      <th></th>\n",
              "      <th></th>\n",
              "      <th></th>\n",
              "      <th></th>\n",
              "    </tr>\n",
              "  </thead>\n",
              "  <tbody>\n",
              "    <tr>\n",
              "      <th>2726</th>\n",
              "      <td>0.019204</td>\n",
              "      <td>0.006077</td>\n",
              "      <td>0.01569</td>\n",
              "      <td>0.005398</td>\n",
              "      <td>0.015407</td>\n",
              "      <td>0.003485</td>\n",
              "      <td>0.037177</td>\n",
              "      <td>0.003684</td>\n",
              "      <td>0.006715</td>\n",
              "      <td>0.009673</td>\n",
              "      <td>...</td>\n",
              "      <td>0.023848</td>\n",
              "      <td>0.030855</td>\n",
              "      <td>0.036434</td>\n",
              "      <td>0.008127</td>\n",
              "      <td>0.009455</td>\n",
              "      <td>0.01278</td>\n",
              "      <td>0.01328</td>\n",
              "      <td>0.010879</td>\n",
              "      <td>0.000748</td>\n",
              "      <td>0.018534</td>\n",
              "    </tr>\n",
              "    <tr>\n",
              "      <th>19299</th>\n",
              "      <td>0.004832</td>\n",
              "      <td>0.006226</td>\n",
              "      <td>0.030483</td>\n",
              "      <td>0.016231</td>\n",
              "      <td>0.019555</td>\n",
              "      <td>0.021715</td>\n",
              "      <td>0.009046</td>\n",
              "      <td>0.015246</td>\n",
              "      <td>0.030448</td>\n",
              "      <td>0.024521</td>\n",
              "      <td>...</td>\n",
              "      <td>0.003317</td>\n",
              "      <td>0.013556</td>\n",
              "      <td>0.004492</td>\n",
              "      <td>0.018581</td>\n",
              "      <td>0.037828</td>\n",
              "      <td>0.005302</td>\n",
              "      <td>0.004005</td>\n",
              "      <td>0.019138</td>\n",
              "      <td>0.008508</td>\n",
              "      <td>0.029209</td>\n",
              "    </tr>\n",
              "    <tr>\n",
              "      <th>43267</th>\n",
              "      <td>0.012299</td>\n",
              "      <td>0.010692</td>\n",
              "      <td>0.012279</td>\n",
              "      <td>0.004785</td>\n",
              "      <td>0.01074</td>\n",
              "      <td>0.006431</td>\n",
              "      <td>0.027851</td>\n",
              "      <td>0.002085</td>\n",
              "      <td>0.007528</td>\n",
              "      <td>0.015044</td>\n",
              "      <td>...</td>\n",
              "      <td>0.013484</td>\n",
              "      <td>0.034512</td>\n",
              "      <td>0.037962</td>\n",
              "      <td>0.005459</td>\n",
              "      <td>0.009854</td>\n",
              "      <td>0.012405</td>\n",
              "      <td>0.017465</td>\n",
              "      <td>0.009158</td>\n",
              "      <td>0.001073</td>\n",
              "      <td>0.026027</td>\n",
              "    </tr>\n",
              "    <tr>\n",
              "      <th>56660</th>\n",
              "      <td>0.005823</td>\n",
              "      <td>0.011976</td>\n",
              "      <td>0.012521</td>\n",
              "      <td>0.02241</td>\n",
              "      <td>0.008185</td>\n",
              "      <td>0.002408</td>\n",
              "      <td>0.012608</td>\n",
              "      <td>0.010788</td>\n",
              "      <td>0.016244</td>\n",
              "      <td>0.015606</td>\n",
              "      <td>...</td>\n",
              "      <td>0.001654</td>\n",
              "      <td>0.011231</td>\n",
              "      <td>0.008555</td>\n",
              "      <td>0.009993</td>\n",
              "      <td>0.019749</td>\n",
              "      <td>0.008598</td>\n",
              "      <td>0.006939</td>\n",
              "      <td>0.010053</td>\n",
              "      <td>0.021829</td>\n",
              "      <td>0.022804</td>\n",
              "    </tr>\n",
              "  </tbody>\n",
              "</table>\n",
              "<p>4 rows × 52 columns</p>\n",
              "</div>"
            ],
            "text/plain": [
              "songID    2263      3785      8063      12709     13859     16548     17029   \\\n",
              "songID                                                                         \n",
              "2726    0.019204  0.006077   0.01569  0.005398  0.015407  0.003485  0.037177   \n",
              "19299   0.004832  0.006226  0.030483  0.016231  0.019555  0.021715  0.009046   \n",
              "43267   0.012299  0.010692  0.012279  0.004785   0.01074  0.006431  0.027851   \n",
              "56660   0.005823  0.011976  0.012521   0.02241  0.008185  0.002408  0.012608   \n",
              "\n",
              "songID    19670     22763     24427   ...    113954    119103    120147  \\\n",
              "songID                                ...                                 \n",
              "2726    0.003684  0.006715  0.009673  ...  0.023848  0.030855  0.036434   \n",
              "19299   0.015246  0.030448  0.024521  ...  0.003317  0.013556  0.004492   \n",
              "43267   0.002085  0.007528  0.015044  ...  0.013484  0.034512  0.037962   \n",
              "56660   0.010788  0.016244  0.015606  ...  0.001654  0.011231  0.008555   \n",
              "\n",
              "songID    122065    123176    125557    126757    131048    132189    134732  \n",
              "songID                                                                        \n",
              "2726    0.008127  0.009455   0.01278   0.01328  0.010879  0.000748  0.018534  \n",
              "19299   0.018581  0.037828  0.005302  0.004005  0.019138  0.008508  0.029209  \n",
              "43267   0.005459  0.009854  0.012405  0.017465  0.009158  0.001073  0.026027  \n",
              "56660   0.009993  0.019749  0.008598  0.006939  0.010053  0.021829  0.022804  \n",
              "\n",
              "[4 rows x 52 columns]"
            ]
          },
          "execution_count": 36,
          "metadata": {},
          "output_type": "execute_result"
        }
      ],
      "source": [
        "filtered_sim_df"
      ]
    },
    {
      "cell_type": "markdown",
      "metadata": {
        "id": "dWiqF5ALNvoe"
      },
      "source": [
        "## `iii` Top-K Candidate Selection\n",
        "\n",
        "Selet top-K (a k of your choice) similar items for each item (user 199988) rated from the filtered similarity matrix above."
      ]
    },
    {
      "cell_type": "code",
      "execution_count": 42,
      "metadata": {
        "id": "yU_Cykj3Nvoe"
      },
      "outputs": [
        {
          "name": "stdout",
          "output_type": "stream",
          "text": [
            "Warning: Item '2726' not found in similarity DataFrame.\n",
            "Warning: Item '19299' not found in similarity DataFrame.\n",
            "Warning: Item '43267' not found in similarity DataFrame.\n",
            "Warning: Item '56660' not found in similarity DataFrame.\n"
          ]
        }
      ],
      "source": [
        "k = 5 \n",
        "\n",
        "top_k_candidates = {}\n",
        "\n",
        "for rated_item in rated_items:\n",
        "    if rated_item in filtered_sim_df.columns:\n",
        "\n",
        "        sims = filtered_sim_df[rated_item]\n",
        "        \n",
        "        top_k = sims.sort_values(ascending=False).head(k)\n",
        "        \n",
        "        top_k_candidates[rated_item] = top_k\n",
        "    else:\n",
        "        print(f\"Warning: Item '{rated_item}' not found in similarity DataFrame.\")\n",
        "\n",
        "for item, candidates in top_k_candidates.items():\n",
        "    print(f\"Rated item {item} -> Top-{k} candidates:\")\n",
        "    print(candidates)\n",
        "    print(\"-\" * 30)\n"
      ]
    },
    {
      "cell_type": "markdown",
      "metadata": {
        "id": "eNojWmDgNvoe"
      },
      "source": [
        "## `iv` Candidate Rating Prediction\n",
        "\n",
        "Calculate the predicted rating for each of the candidate items."
      ]
    },
    {
      "cell_type": "code",
      "execution_count": null,
      "metadata": {
        "id": "ABUiHqzfNvoe"
      },
      "outputs": [],
      "source": []
    },
    {
      "cell_type": "code",
      "execution_count": null,
      "metadata": {
        "id": "HJdDHa5dNvof",
        "outputId": "d607a890-b65e-4ce7-8867-321f9d85ff81"
      },
      "outputs": [
        {
          "data": {
            "text/html": [
              "<div>\n",
              "<style scoped>\n",
              "    .dataframe tbody tr th:only-of-type {\n",
              "        vertical-align: middle;\n",
              "    }\n",
              "\n",
              "    .dataframe tbody tr th {\n",
              "        vertical-align: top;\n",
              "    }\n",
              "\n",
              "    .dataframe thead th {\n",
              "        text-align: right;\n",
              "    }\n",
              "</style>\n",
              "<table border=\"1\" class=\"dataframe\">\n",
              "  <thead>\n",
              "    <tr style=\"text-align: right;\">\n",
              "      <th></th>\n",
              "      <th>predicted_rating</th>\n",
              "      <th>ref_1</th>\n",
              "      <th>ref_1_similarity</th>\n",
              "      <th>ref_1_rating</th>\n",
              "      <th>ref_2</th>\n",
              "      <th>ref_2_similarity</th>\n",
              "      <th>ref_2_rating</th>\n",
              "    </tr>\n",
              "    <tr>\n",
              "      <th>candidate</th>\n",
              "      <th></th>\n",
              "      <th></th>\n",
              "      <th></th>\n",
              "      <th></th>\n",
              "      <th></th>\n",
              "      <th></th>\n",
              "      <th></th>\n",
              "    </tr>\n",
              "  </thead>\n",
              "  <tbody>\n",
              "    <tr>\n",
              "      <th>45026</th>\n",
              "      <td>3.0</td>\n",
              "      <td>43267</td>\n",
              "      <td>0.010135</td>\n",
              "      <td>3</td>\n",
              "      <td>&lt;NA&gt;</td>\n",
              "      <td>&lt;NA&gt;</td>\n",
              "      <td>&lt;NA&gt;</td>\n",
              "    </tr>\n",
              "    <tr>\n",
              "      <th>86341</th>\n",
              "      <td>5.0</td>\n",
              "      <td>2726</td>\n",
              "      <td>0.009534</td>\n",
              "      <td>5</td>\n",
              "      <td>&lt;NA&gt;</td>\n",
              "      <td>&lt;NA&gt;</td>\n",
              "      <td>&lt;NA&gt;</td>\n",
              "    </tr>\n",
              "    <tr>\n",
              "      <th>17029</th>\n",
              "      <td>4.279497</td>\n",
              "      <td>2726</td>\n",
              "      <td>0.01324</td>\n",
              "      <td>5</td>\n",
              "      <td>43267</td>\n",
              "      <td>0.007456</td>\n",
              "      <td>3</td>\n",
              "    </tr>\n",
              "    <tr>\n",
              "      <th>12709</th>\n",
              "      <td>5.0</td>\n",
              "      <td>56660</td>\n",
              "      <td>0.004105</td>\n",
              "      <td>5</td>\n",
              "      <td>&lt;NA&gt;</td>\n",
              "      <td>&lt;NA&gt;</td>\n",
              "      <td>&lt;NA&gt;</td>\n",
              "    </tr>\n",
              "    <tr>\n",
              "      <th>40712</th>\n",
              "      <td>5.0</td>\n",
              "      <td>2726</td>\n",
              "      <td>0.012574</td>\n",
              "      <td>5</td>\n",
              "      <td>&lt;NA&gt;</td>\n",
              "      <td>&lt;NA&gt;</td>\n",
              "      <td>&lt;NA&gt;</td>\n",
              "    </tr>\n",
              "    <tr>\n",
              "      <th>123176</th>\n",
              "      <td>5.0</td>\n",
              "      <td>19299</td>\n",
              "      <td>0.014827</td>\n",
              "      <td>5</td>\n",
              "      <td>&lt;NA&gt;</td>\n",
              "      <td>&lt;NA&gt;</td>\n",
              "      <td>&lt;NA&gt;</td>\n",
              "    </tr>\n",
              "    <tr>\n",
              "      <th>90409</th>\n",
              "      <td>5.0</td>\n",
              "      <td>56660</td>\n",
              "      <td>0.020505</td>\n",
              "      <td>5</td>\n",
              "      <td>&lt;NA&gt;</td>\n",
              "      <td>&lt;NA&gt;</td>\n",
              "      <td>&lt;NA&gt;</td>\n",
              "    </tr>\n",
              "    <tr>\n",
              "      <th>134732</th>\n",
              "      <td>5.0</td>\n",
              "      <td>19299</td>\n",
              "      <td>0.00685</td>\n",
              "      <td>5</td>\n",
              "      <td>&lt;NA&gt;</td>\n",
              "      <td>&lt;NA&gt;</td>\n",
              "      <td>&lt;NA&gt;</td>\n",
              "    </tr>\n",
              "    <tr>\n",
              "      <th>60465</th>\n",
              "      <td>5.0</td>\n",
              "      <td>56660</td>\n",
              "      <td>0.003673</td>\n",
              "      <td>5</td>\n",
              "      <td>&lt;NA&gt;</td>\n",
              "      <td>&lt;NA&gt;</td>\n",
              "      <td>&lt;NA&gt;</td>\n",
              "    </tr>\n",
              "    <tr>\n",
              "      <th>120147</th>\n",
              "      <td>3.844362</td>\n",
              "      <td>2726</td>\n",
              "      <td>0.013797</td>\n",
              "      <td>5</td>\n",
              "      <td>43267</td>\n",
              "      <td>0.018883</td>\n",
              "      <td>3</td>\n",
              "    </tr>\n",
              "    <tr>\n",
              "      <th>43827</th>\n",
              "      <td>5.0</td>\n",
              "      <td>19299</td>\n",
              "      <td>0.00763</td>\n",
              "      <td>5</td>\n",
              "      <td>&lt;NA&gt;</td>\n",
              "      <td>&lt;NA&gt;</td>\n",
              "      <td>&lt;NA&gt;</td>\n",
              "    </tr>\n",
              "    <tr>\n",
              "      <th>8063</th>\n",
              "      <td>5.0</td>\n",
              "      <td>19299</td>\n",
              "      <td>0.007944</td>\n",
              "      <td>5</td>\n",
              "      <td>&lt;NA&gt;</td>\n",
              "      <td>&lt;NA&gt;</td>\n",
              "      <td>&lt;NA&gt;</td>\n",
              "    </tr>\n",
              "    <tr>\n",
              "      <th>105433</th>\n",
              "      <td>5.0</td>\n",
              "      <td>19299</td>\n",
              "      <td>0.027774</td>\n",
              "      <td>5</td>\n",
              "      <td>&lt;NA&gt;</td>\n",
              "      <td>&lt;NA&gt;</td>\n",
              "      <td>&lt;NA&gt;</td>\n",
              "    </tr>\n",
              "    <tr>\n",
              "      <th>42906</th>\n",
              "      <td>3.0</td>\n",
              "      <td>43267</td>\n",
              "      <td>0.011221</td>\n",
              "      <td>3</td>\n",
              "      <td>&lt;NA&gt;</td>\n",
              "      <td>&lt;NA&gt;</td>\n",
              "      <td>&lt;NA&gt;</td>\n",
              "    </tr>\n",
              "    <tr>\n",
              "      <th>48731</th>\n",
              "      <td>5.0</td>\n",
              "      <td>56660</td>\n",
              "      <td>0.015657</td>\n",
              "      <td>5</td>\n",
              "      <td>&lt;NA&gt;</td>\n",
              "      <td>&lt;NA&gt;</td>\n",
              "      <td>&lt;NA&gt;</td>\n",
              "    </tr>\n",
              "    <tr>\n",
              "      <th>25182</th>\n",
              "      <td>5.0</td>\n",
              "      <td>56660</td>\n",
              "      <td>0.002357</td>\n",
              "      <td>5</td>\n",
              "      <td>&lt;NA&gt;</td>\n",
              "      <td>&lt;NA&gt;</td>\n",
              "      <td>&lt;NA&gt;</td>\n",
              "    </tr>\n",
              "    <tr>\n",
              "      <th>119103</th>\n",
              "      <td>3.72862</td>\n",
              "      <td>2726</td>\n",
              "      <td>0.00947</td>\n",
              "      <td>5</td>\n",
              "      <td>43267</td>\n",
              "      <td>0.016524</td>\n",
              "      <td>3</td>\n",
              "    </tr>\n",
              "  </tbody>\n",
              "</table>\n",
              "</div>"
            ],
            "text/plain": [
              "           predicted_rating  ref_1  ref_1_similarity  ref_1_rating  ref_2  \\\n",
              "candidate                                                                   \n",
              "45026                   3.0  43267          0.010135             3   <NA>   \n",
              "86341                   5.0   2726          0.009534             5   <NA>   \n",
              "17029              4.279497   2726           0.01324             5  43267   \n",
              "12709                   5.0  56660          0.004105             5   <NA>   \n",
              "40712                   5.0   2726          0.012574             5   <NA>   \n",
              "123176                  5.0  19299          0.014827             5   <NA>   \n",
              "90409                   5.0  56660          0.020505             5   <NA>   \n",
              "134732                  5.0  19299           0.00685             5   <NA>   \n",
              "60465                   5.0  56660          0.003673             5   <NA>   \n",
              "120147             3.844362   2726          0.013797             5  43267   \n",
              "43827                   5.0  19299           0.00763             5   <NA>   \n",
              "8063                    5.0  19299          0.007944             5   <NA>   \n",
              "105433                  5.0  19299          0.027774             5   <NA>   \n",
              "42906                   3.0  43267          0.011221             3   <NA>   \n",
              "48731                   5.0  56660          0.015657             5   <NA>   \n",
              "25182                   5.0  56660          0.002357             5   <NA>   \n",
              "119103              3.72862   2726           0.00947             5  43267   \n",
              "\n",
              "           ref_2_similarity  ref_2_rating  \n",
              "candidate                                  \n",
              "45026                  <NA>          <NA>  \n",
              "86341                  <NA>          <NA>  \n",
              "17029              0.007456             3  \n",
              "12709                  <NA>          <NA>  \n",
              "40712                  <NA>          <NA>  \n",
              "123176                 <NA>          <NA>  \n",
              "90409                  <NA>          <NA>  \n",
              "134732                 <NA>          <NA>  \n",
              "60465                  <NA>          <NA>  \n",
              "120147             0.018883             3  \n",
              "43827                  <NA>          <NA>  \n",
              "8063                   <NA>          <NA>  \n",
              "105433                 <NA>          <NA>  \n",
              "42906                  <NA>          <NA>  \n",
              "48731                  <NA>          <NA>  \n",
              "25182                  <NA>          <NA>  \n",
              "119103             0.016524             3  "
            ]
          },
          "metadata": {},
          "output_type": "display_data"
        }
      ],
      "source": []
    },
    {
      "cell_type": "markdown",
      "metadata": {
        "id": "sweSzJhPNvox"
      },
      "source": [
        "------------------------------------------------------\n",
        "\n",
        "# `05` Additional Tasks"
      ]
    },
    {
      "cell_type": "markdown",
      "metadata": {
        "id": "nKOezaytNvoy"
      },
      "source": [
        "## `i` Explore Surprise Library\n",
        "\n",
        "- Install Scikit Surprise library.\n",
        "- Explore the Library Documentation"
      ]
    },
    {
      "cell_type": "code",
      "execution_count": null,
      "metadata": {
        "id": "88hDVeF6Nvoy"
      },
      "outputs": [],
      "source": []
    },
    {
      "cell_type": "markdown",
      "metadata": {
        "id": "txNWwYM-Nvoz"
      },
      "source": [
        "## `ii` Implement Item-Based KNN Approach [Bonus]\n",
        "\n",
        "- Follow the steps explained in the sessions to prepare the KNN approach.\n",
        "- Generate prediction ratings for user $199988$ on all songs."
      ]
    },
    {
      "cell_type": "code",
      "execution_count": null,
      "metadata": {
        "id": "CEWvo5ebNvoz"
      },
      "outputs": [],
      "source": []
    },
    {
      "cell_type": "markdown",
      "metadata": {
        "id": "5buS3Fn_Nvoz"
      },
      "source": [
        "----------------------------------------------\n",
        "\n",
        "$$ Wish \\space you \\space all \\space the \\space best \\space ♡ $$\n",
        "$$ Abdelrahman \\space Eid $$"
      ]
    }
  ],
  "metadata": {
    "colab": {
      "provenance": []
    },
    "kernelspec": {
      "display_name": "Python 3",
      "language": "python",
      "name": "python3"
    },
    "language_info": {
      "codemirror_mode": {
        "name": "ipython",
        "version": 3
      },
      "file_extension": ".py",
      "mimetype": "text/x-python",
      "name": "python",
      "nbconvert_exporter": "python",
      "pygments_lexer": "ipython3",
      "version": "3.9.0"
    },
    "orig_nbformat": 4
  },
  "nbformat": 4,
  "nbformat_minor": 0
}
